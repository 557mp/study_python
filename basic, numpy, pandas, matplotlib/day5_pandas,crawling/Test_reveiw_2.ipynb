{
 "cells": [
  {
   "cell_type": "markdown",
   "metadata": {},
   "source": [
    "## 8문제   (지난편 12문제)     OX"
   ]
  },
  {
   "cell_type": "code",
   "execution_count": 13,
   "metadata": {},
   "outputs": [],
   "source": [
    "def plusF(bbb, *args):     # 일반 매개변수, 가변 매개변수-인자값 무한개    / 가변, 키워드 매개변수가 뒤에 와야 한다.\n",
    "    print(args[1]+args[2])"
   ]
  },
  {
   "cell_type": "code",
   "execution_count": 14,
   "metadata": {},
   "outputs": [
    {
     "name": "stdout",
     "output_type": "stream",
     "text": [
      "9\n"
     ]
    }
   ],
   "source": [
    "plusF('안녕',3,4,5,6)"
   ]
  },
  {
   "cell_type": "code",
   "execution_count": null,
   "metadata": {},
   "outputs": [],
   "source": [
    "## Beautiful Soup  <-- 정답\n",
    "### pandas 자료구조가 아닌 것은?                              Series(vector), DataFrame(matrix), Panal(3D), ???\n",
    "### numpy 데이터 구조 파악. 튜플로                            shape\n",
    "#(주관식) np.arange(3,12).reshape(3,3) 출력(print)하면?       \n",
    "# [[ 3  4  5]\n",
    "# [ 6  7  8]\n",
    "# [ 9 10 11]]\n",
    "# 컴마 없다.   \n",
    "### arr=np.arange(3,12).reshape(3,3)                          np.sum(arr) 출력하면?                   총합\n",
    "### print(np.sum(arr, axis=0))                                매 행에서, 같은 열을 더한다.  axis=0 밑으로, axis=1 오른쪽으로 합"
   ]
  },
  {
   "cell_type": "code",
   "execution_count": 8,
   "metadata": {},
   "outputs": [
    {
     "name": "stdout",
     "output_type": "stream",
     "text": [
      "[[ 3  4  5]\n",
      " [ 6  7  8]\n",
      " [ 9 10 11]]\n",
      "\n",
      " [18 21 24]\n"
     ]
    },
    {
     "data": {
      "text/plain": [
       "array([[ 3,  4,  5],\n",
       "       [ 6,  7,  8],\n",
       "       [ 9, 10, 11]])"
      ]
     },
     "execution_count": 8,
     "metadata": {},
     "output_type": "execute_result"
    }
   ],
   "source": [
    "import numpy as np\n",
    "\n",
    "arr=np.arange(3,12).reshape(3,3)\n",
    "print(arr)\n",
    "print('\\n', np.sum(arr, axis=0))\n",
    "arr"
   ]
  },
  {
   "cell_type": "code",
   "execution_count": 31,
   "metadata": {},
   "outputs": [
    {
     "name": "stdout",
     "output_type": "stream",
     "text": [
      "12\n",
      "21\n",
      "30\n"
     ]
    }
   ],
   "source": [
    "'''\n",
    "pandas\n",
    "\n",
    "loc, iloc\n",
    "iat, at\n",
    "\n",
    "dropna()\n",
    "fillna()         직접 값을 지정할 때?           fillna( value=5  )          default?    value=0  ,   axis=0\n",
    "inplace=True\n",
    "'''"
   ]
  },
  {
   "cell_type": "code",
   "execution_count": null,
   "metadata": {},
   "outputs": [],
   "source": [
    "# for 문 안나온단다.."
   ]
  }
 ],
 "metadata": {
  "kernelspec": {
   "display_name": "Python 3",
   "language": "python",
   "name": "python3"
  },
  "language_info": {
   "codemirror_mode": {
    "name": "ipython",
    "version": 3
   },
   "file_extension": ".py",
   "mimetype": "text/x-python",
   "name": "python",
   "nbconvert_exporter": "python",
   "pygments_lexer": "ipython3",
   "version": "3.6.8"
  }
 },
 "nbformat": 4,
 "nbformat_minor": 2
}
