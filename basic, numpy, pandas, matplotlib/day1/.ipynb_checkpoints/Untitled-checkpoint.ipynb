{
 "cells": [
  {
   "cell_type": "code",
   "execution_count": 3,
   "metadata": {},
   "outputs": [],
   "source": [
    "class Product:\n",
    "    def __init__(self):\n",
    "        pass\n",
    "\n",
    "    def input_value(self, input1, input2):\n",
    "        self.input1 = input1\n",
    "        self.input2 = input2\n",
    "        \n",
    "    def print1(self):\n",
    "        print(self.input1)\n",
    "        \n",
    "    def print2(self):\n",
    "        print(self.input2)\n",
    "        \n",
    "pro = Product()"
   ]
  },
  {
   "cell_type": "code",
   "execution_count": null,
   "metadata": {},
   "outputs": [],
   "source": []
  }
 ],
 "metadata": {
  "kernelspec": {
   "display_name": "Python 3",
   "language": "python",
   "name": "python3"
  },
  "language_info": {
   "codemirror_mode": {
    "name": "ipython",
    "version": 3
   },
   "file_extension": ".py",
   "mimetype": "text/x-python",
   "name": "python",
   "nbconvert_exporter": "python",
   "pygments_lexer": "ipython3",
   "version": "3.7.4"
  }
 },
 "nbformat": 4,
 "nbformat_minor": 2
}
