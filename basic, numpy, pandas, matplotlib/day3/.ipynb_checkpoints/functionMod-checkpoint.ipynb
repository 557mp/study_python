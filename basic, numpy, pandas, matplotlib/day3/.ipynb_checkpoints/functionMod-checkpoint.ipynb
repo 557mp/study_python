{
 "cells": [
  {
   "cell_type": "code",
   "execution_count": 3,
   "metadata": {},
   "outputs": [
    {
     "name": "stdout",
     "output_type": "stream",
     "text": [
      "Overwriting fucMod.py\n"
     ]
    }
   ],
   "source": [
    "%%writefile fucMod.py\n",
    "\n",
    "## 매직 명령어는 가장 위에 올라와야 하며, 주석도 달지 말아라\n",
    "\n",
    "\n",
    "def getSum(li):\n",
    "    return sum(li)+11\n",
    "\n",
    "nh = 'NongHyup'"
   ]
  },
  {
   "cell_type": "code",
   "execution_count": null,
   "metadata": {},
   "outputs": [],
   "source": []
  }
 ],
 "metadata": {
  "kernelspec": {
   "display_name": "Python 3",
   "language": "python",
   "name": "python3"
  },
  "language_info": {
   "codemirror_mode": {
    "name": "ipython",
    "version": 3
   },
   "file_extension": ".py",
   "mimetype": "text/x-python",
   "name": "python",
   "nbconvert_exporter": "python",
   "pygments_lexer": "ipython3",
   "version": "3.7.4"
  }
 },
 "nbformat": 4,
 "nbformat_minor": 2
}
