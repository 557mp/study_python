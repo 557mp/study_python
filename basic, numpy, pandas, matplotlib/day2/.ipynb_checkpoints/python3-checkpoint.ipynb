{
 "cells": [
  {
   "cell_type": "markdown",
   "metadata": {},
   "source": [
    "## 조건문 또는 제어문"
   ]
  },
  {
   "cell_type": "code",
   "execution_count": 2,
   "metadata": {},
   "outputs": [
    {
     "name": "stdout",
     "output_type": "stream",
     "text": [
      "odd\n"
     ]
    }
   ],
   "source": [
    "a=3\n",
    "if a%2==0:\n",
    "    print('even')\n",
    "else:\n",
    "    print('odd')"
   ]
  },
  {
   "cell_type": "code",
   "execution_count": 10,
   "metadata": {},
   "outputs": [
    {
     "name": "stdout",
     "output_type": "stream",
     "text": [
      "성적입력: 77\n",
      "C\n"
     ]
    }
   ],
   "source": [
    "score = int( input( '성적입력: '))\n",
    "\n",
    "if score>=90:\n",
    "    print('A')\n",
    "elif score>=80:\n",
    "    print('B')\n",
    "elif score>=70:\n",
    "    print('C')\n",
    "else:\n",
    "    print('Fail')"
   ]
  },
  {
   "cell_type": "code",
   "execution_count": 16,
   "metadata": {},
   "outputs": [
    {
     "name": "stdout",
     "output_type": "stream",
     "text": [
      "a _ b _ c _ d _ "
     ]
    }
   ],
   "source": [
    "myMovies = ['a','b','c','d']\n",
    "\n",
    "for m in myMovies:\n",
    "    print(m, end=' _ ')"
   ]
  },
  {
   "cell_type": "code",
   "execution_count": 17,
   "metadata": {},
   "outputs": [
    {
     "name": "stdout",
     "output_type": "stream",
     "text": [
      "0,1,2,3,4,5,6,7,8,9,"
     ]
    }
   ],
   "source": [
    "for i in range(10):\n",
    "    print(i, end=',')"
   ]
  },
  {
   "cell_type": "code",
   "execution_count": 22,
   "metadata": {},
   "outputs": [
    {
     "name": "stdout",
     "output_type": "stream",
     "text": [
      "0 a\t1 b\t2 c\t3 d\t"
     ]
    }
   ],
   "source": [
    "for idx in range(len(myMovies)):\n",
    "    print(idx, myMovies[idx], end='\\t')"
   ]
  },
  {
   "cell_type": "code",
   "execution_count": 31,
   "metadata": {},
   "outputs": [
    {
     "name": "stdout",
     "output_type": "stream",
     "text": [
      "3,4,5,6\n"
     ]
    },
    {
     "data": {
      "text/plain": [
       "18"
      ]
     },
     "execution_count": 31,
     "metadata": {},
     "output_type": "execute_result"
    }
   ],
   "source": [
    "'''\n",
    "(문제) 키보드로 입력 받는다. '(3,4,5,6)'\n",
    "for문을 사용해서 전체 합을 구하시오\n",
    "'''\n",
    "list_ = list(map(int, ( input().split(',') )))\n",
    "total = 0\n",
    "\n",
    "for li in list_:\n",
    "    total += li\n",
    "\n",
    "total"
   ]
  },
  {
   "cell_type": "code",
   "execution_count": 32,
   "metadata": {},
   "outputs": [
    {
     "data": {
      "text/plain": [
       "36"
      ]
     },
     "execution_count": 32,
     "metadata": {},
     "output_type": "execute_result"
    }
   ],
   "source": [
    "for i in range(len(list_)):\n",
    "    total += list_[i]\n",
    "    \n",
    "total"
   ]
  },
  {
   "cell_type": "code",
   "execution_count": 33,
   "metadata": {},
   "outputs": [
    {
     "data": {
      "text/plain": [
       "18"
      ]
     },
     "execution_count": 33,
     "metadata": {},
     "output_type": "execute_result"
    }
   ],
   "source": [
    "intData = [int(i) for i in list_]\n",
    "sum(intData)"
   ]
  },
  {
   "cell_type": "code",
   "execution_count": 36,
   "metadata": {},
   "outputs": [
    {
     "data": {
      "text/plain": [
       "['홀', '짝', '홀', '홀', '짝', '짝']"
      ]
     },
     "execution_count": 36,
     "metadata": {},
     "output_type": "execute_result"
    }
   ],
   "source": [
    "'''\n",
    "(문제)\n",
    "numList = [5,10,11,3,2,100]\n",
    "짝/홀 리스트에 append\n",
    "'''\n",
    "numList = [5,10,11,3,2,100]\n",
    "eoList=list()\n",
    "for num in numList:\n",
    "    if num<=0:\n",
    "        pass\n",
    "    elif num%2==0:\n",
    "        eoList.append('짝')\n",
    "    else:\n",
    "        eoList.append('홀')\n",
    "\n",
    "eoList"
   ]
  },
  {
   "cell_type": "code",
   "execution_count": 60,
   "metadata": {},
   "outputs": [
    {
     "name": "stdout",
     "output_type": "stream",
     "text": [
      "[1, 2, 3]\n",
      "[4, 5, 6]\n",
      "[7, 8, 9, 10]\n",
      "[[1, 2, 3], [4, 5, 6], [7, 8, 9, 10]]\n",
      "1 \t2 \t3 \t\n",
      "4 \t5 \t6 \t\n",
      "7 \t8 \t9 \t10 \t\n",
      "<class 'list'>\n",
      "<class 'list'>\n",
      "<class 'list'>\n"
     ]
    }
   ],
   "source": [
    "matrix = [\n",
    "    [1,2,3],[4,5,6],[7,8,9,10]\n",
    "]\n",
    "\n",
    "for i in matrix:\n",
    "    print(i)\n",
    "    \n",
    "import pprint\n",
    "pprint.pprint(matrix)              ## 왜 안되지?   2차원에서는 안먹힘. 3차원 or 딕셔너리에서 잘 먹힘.\n",
    "\n",
    "for i in range(len(matrix)):\n",
    "    for j in matrix[i]:\n",
    "        print(j, '\\t', end='')\n",
    "    print()\n",
    "    \n",
    "for row in matrix:\n",
    "    for col in row:\n",
    "        print(col, '\\t', end='')\n",
    "    print()"
   ]
  },
  {
   "cell_type": "code",
   "execution_count": 67,
   "metadata": {},
   "outputs": [
    {
     "name": "stdout",
     "output_type": "stream",
     "text": [
      "12\n",
      "5\n"
     ]
    }
   ],
   "source": [
    "for i in range(10):\n",
    "    if i==2:\n",
    "        print(12)\n",
    "        pass\n",
    "        continue\n",
    "        print('after continue')\n",
    "    if i==2:\n",
    "        print('two')\n",
    "    if i==5:\n",
    "        print(5)\n",
    "        break\n",
    "        print('break')"
   ]
  },
  {
   "cell_type": "code",
   "execution_count": 69,
   "metadata": {},
   "outputs": [
    {
     "name": "stdout",
     "output_type": "stream",
     "text": [
      "55\n"
     ]
    }
   ],
   "source": [
    "'''\n",
    "(문제) while\n",
    "1부터 10까지 합산\n",
    "'''\n",
    "i=1\n",
    "total=0\n",
    "while i<=10:\n",
    "    total+=i\n",
    "    i+=1\n",
    "print(total)"
   ]
  },
  {
   "cell_type": "code",
   "execution_count": 72,
   "metadata": {},
   "outputs": [
    {
     "name": "stdout",
     "output_type": "stream",
     "text": [
      "55\n"
     ]
    }
   ],
   "source": [
    "i=1\n",
    "total=0\n",
    "while 1:\n",
    "    total+=i\n",
    "    i+=1\n",
    "    if i>10:\n",
    "        print(total)\n",
    "        break"
   ]
  },
  {
   "cell_type": "code",
   "execution_count": 74,
   "metadata": {},
   "outputs": [
    {
     "name": "stdout",
     "output_type": "stream",
     "text": [
      "a\t col\t data\t eoList\t i\t idx\t intData\t j\t li\t \n",
      "list_\t m\t matrix\t myMovies\t num\t numList\t pprint\t row\t sc\t \n",
      "score\t total\t \n"
     ]
    }
   ],
   "source": [
    "%who"
   ]
  },
  {
   "cell_type": "code",
   "execution_count": 75,
   "metadata": {},
   "outputs": [
    {
     "name": "stdout",
     "output_type": "stream",
     "text": [
      "Variable   Type      Data/Info\n",
      "------------------------------\n",
      "a          int       3\n",
      "col        int       10\n",
      "data       list      n=4\n",
      "eoList     list      n=6\n",
      "i          int       11\n",
      "idx        int       3\n",
      "intData    list      n=4\n",
      "j          int       10\n",
      "li         int       6\n",
      "list_      list      n=4\n",
      "m          str       d\n",
      "matrix     list      n=3\n",
      "myMovies   list      n=4\n",
      "num        int       100\n",
      "numList    list      n=6\n",
      "pprint     module    <module 'pprint' from 'C:<...>aconda3\\\\lib\\\\pprint.py'>\n",
      "row        list      n=4\n",
      "sc         int       8\n",
      "score      int       77\n",
      "total      int       55\n"
     ]
    }
   ],
   "source": [
    "%whos    # 메모리에 올라간 것들"
   ]
  }
 ],
 "metadata": {
  "kernelspec": {
   "display_name": "Python 3",
   "language": "python",
   "name": "python3"
  },
  "language_info": {
   "codemirror_mode": {
    "name": "ipython",
    "version": 3
   },
   "file_extension": ".py",
   "mimetype": "text/x-python",
   "name": "python",
   "nbconvert_exporter": "python",
   "pygments_lexer": "ipython3",
   "version": "3.7.4"
  }
 },
 "nbformat": 4,
 "nbformat_minor": 2
}
