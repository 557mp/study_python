{
 "cells": [
  {
   "cell_type": "code",
   "execution_count": 1,
   "metadata": {},
   "outputs": [
    {
     "name": "stdout",
     "output_type": "stream",
     "text": [
      "Interactive namespace is empty.\n",
      "Interactive namespace is empty.\n"
     ]
    }
   ],
   "source": [
    "%who\n",
    "%whos"
   ]
  },
  {
   "cell_type": "markdown",
   "metadata": {},
   "source": [
    "## 함수\n",
    "<pre>\n",
    "def 함수명(매개변수 parameter /optional):\n",
    "    '''\n",
    "    내가 만든 함수에 대한 설명\n",
    "    '''\n",
    "    do sth\n",
    "    return 값\n",
    "</pre>\n",
    "\n",
    "<br>\n",
    "<b>매개변수에 따른 함수 (4)</b>\n",
    "<pre>\n",
    "    - 위치 parameter\n",
    "    - 기본 parameter\n",
    "    - 키워드 parameter\n",
    "    - 가변 parameter\n",
    "</pre>"
   ]
  },
  {
   "cell_type": "code",
   "execution_count": 2,
   "metadata": {},
   "outputs": [],
   "source": [
    "###           위치 매개변수             ###\n",
    "\n",
    "# 함수에서 정의한 위치대로 할당\n",
    "\n",
    "def calc(num1, num2):\n",
    "    ''' (doc string)\n",
    "    매개변수 num1, num2 받아서 그 합을 result에 할당 후, result를 리턴하는 기능\n",
    "    '''\n",
    "    result = num1 + num2\n",
    "    return result"
   ]
  },
  {
   "cell_type": "code",
   "execution_count": 3,
   "metadata": {},
   "outputs": [
    {
     "name": "stdout",
     "output_type": "stream",
     "text": [
      "8\n"
     ]
    }
   ],
   "source": [
    "print(calc(3,5))"
   ]
  },
  {
   "cell_type": "code",
   "execution_count": 4,
   "metadata": {},
   "outputs": [
    {
     "name": "stdout",
     "output_type": "stream",
     "text": [
      "Variable   Type        Data/Info\n",
      "--------------------------------\n",
      "calc       function    <function calc at 0x0000017AD45DE4C8>\n"
     ]
    }
   ],
   "source": [
    "%whos"
   ]
  },
  {
   "cell_type": "code",
   "execution_count": 5,
   "metadata": {},
   "outputs": [],
   "source": [
    "def calc1(num1, num2):\n",
    "    ''' (doc string)\n",
    "    매개변수 num1, num2 받아서 그 합을 result에 할당 후, result를 출력하는 기능\n",
    "    '''\n",
    "    result=num1+num2\n",
    "    print(result)"
   ]
  },
  {
   "cell_type": "code",
   "execution_count": 19,
   "metadata": {},
   "outputs": [
    {
     "name": "stdout",
     "output_type": "stream",
     "text": [
      "7\n",
      "\n",
      "print calc1(2,5):  None\n"
     ]
    }
   ],
   "source": [
    "# print('calc1(2,5)')\n",
    "# calc1(2,5)\n",
    "print('\\nprint calc1(2,5): ', calc1(2,5))\n",
    "# print('\\ntype(calc1(2,5)): ', type(calc1(2,5)), '\\t,type(calc1): ',type(calc1))\n",
    "# print('\\ntype(calc(3,5)): ', type(calc(3,5)), '\\t,type(calc): ', type(calc))"
   ]
  },
  {
   "cell_type": "code",
   "execution_count": 7,
   "metadata": {},
   "outputs": [],
   "source": [
    "calc?"
   ]
  },
  {
   "cell_type": "code",
   "execution_count": 8,
   "metadata": {},
   "outputs": [],
   "source": [
    "calc??"
   ]
  },
  {
   "cell_type": "code",
   "execution_count": 9,
   "metadata": {},
   "outputs": [],
   "source": [
    "def calc2(end, start=1):\n",
    "    total=0\n",
    "    for i in range(start, end):\n",
    "        total+=i\n",
    "    return total"
   ]
  },
  {
   "cell_type": "code",
   "execution_count": 10,
   "metadata": {},
   "outputs": [
    {
     "name": "stdout",
     "output_type": "stream",
     "text": [
      "45\n",
      "45\n",
      "17\n"
     ]
    }
   ],
   "source": [
    "print(calc2(10))\n",
    "print(calc2(10,1))\n",
    "print(calc2(10,8))"
   ]
  },
  {
   "cell_type": "code",
   "execution_count": 11,
   "metadata": {},
   "outputs": [
    {
     "ename": "SyntaxError",
     "evalue": "non-default argument follows default argument (<ipython-input-11-96c640dbf47c>, line 1)",
     "output_type": "error",
     "traceback": [
      "\u001b[1;36m  File \u001b[1;32m\"<ipython-input-11-96c640dbf47c>\"\u001b[1;36m, line \u001b[1;32m1\u001b[0m\n\u001b[1;33m    def calc2(start=1, end):\u001b[0m\n\u001b[1;37m             ^\u001b[0m\n\u001b[1;31mSyntaxError\u001b[0m\u001b[1;31m:\u001b[0m non-default argument follows default argument\n"
     ]
    }
   ],
   "source": [
    "def calc2(start=1, end):\n",
    "    total=0\n",
    "    for i in range(start, end):\n",
    "        total+=i\n",
    "    return total\n",
    "\n",
    "# ************* 기본 매개변수는 위치 매개변수 뒤에 와야 한다. ************** #"
   ]
  },
  {
   "cell_type": "code",
   "execution_count": 15,
   "metadata": {},
   "outputs": [],
   "source": [
    "import pandas as pd\n",
    "from pandas import DataFrame\n",
    "\n",
    "df = pd.read_csv?"
   ]
  },
  {
   "cell_type": "code",
   "execution_count": 32,
   "metadata": {},
   "outputs": [
    {
     "name": "stdout",
     "output_type": "stream",
     "text": [
      "이름 김정엽 반장님 \t\t,나이 30\n",
      "이름 30 \t\t,나이 김접엽 반장님\n"
     ]
    }
   ],
   "source": [
    "def calc3(name, age):\n",
    "    print('이름', name, '\\t\\t,나이', age)\n",
    "    \n",
    "calc3('김정엽 반장님', 30)\n",
    "calc3(30, '김접엽 반장님')"
   ]
  },
  {
   "cell_type": "code",
   "execution_count": 33,
   "metadata": {},
   "outputs": [
    {
     "name": "stdout",
     "output_type": "stream",
     "text": [
      "이름 김반장님 \t\t,나이 30\n"
     ]
    }
   ],
   "source": [
    "calc3(age=30, name='김반장님')\n",
    "# 매개변수 이름을 알아야 하며, 순서는 신경 안써도 된다.\n",
    "# key 맵핑"
   ]
  },
  {
   "cell_type": "code",
   "execution_count": 35,
   "metadata": {},
   "outputs": [
    {
     "data": {
      "text/html": [
       "<div>\n",
       "<style scoped>\n",
       "    .dataframe tbody tr th:only-of-type {\n",
       "        vertical-align: middle;\n",
       "    }\n",
       "\n",
       "    .dataframe tbody tr th {\n",
       "        vertical-align: top;\n",
       "    }\n",
       "\n",
       "    .dataframe thead th {\n",
       "        text-align: right;\n",
       "    }\n",
       "</style>\n",
       "<table border=\"1\" class=\"dataframe\">\n",
       "  <thead>\n",
       "    <tr style=\"text-align: right;\">\n",
       "      <th></th>\n",
       "      <th>0</th>\n",
       "      <th>1</th>\n",
       "      <th>2</th>\n",
       "      <th>3</th>\n",
       "    </tr>\n",
       "  </thead>\n",
       "  <tbody>\n",
       "    <tr>\n",
       "      <td>0</td>\n",
       "      <td>-2.312783</td>\n",
       "      <td>-1.282637</td>\n",
       "      <td>-0.362730</td>\n",
       "      <td>0.817230</td>\n",
       "    </tr>\n",
       "    <tr>\n",
       "      <td>1</td>\n",
       "      <td>1.383686</td>\n",
       "      <td>0.426663</td>\n",
       "      <td>-0.188573</td>\n",
       "      <td>0.321969</td>\n",
       "    </tr>\n",
       "    <tr>\n",
       "      <td>2</td>\n",
       "      <td>0.968014</td>\n",
       "      <td>0.125666</td>\n",
       "      <td>-0.120342</td>\n",
       "      <td>-0.494726</td>\n",
       "    </tr>\n",
       "    <tr>\n",
       "      <td>3</td>\n",
       "      <td>-1.707114</td>\n",
       "      <td>-0.749114</td>\n",
       "      <td>-0.639040</td>\n",
       "      <td>-0.038856</td>\n",
       "    </tr>\n",
       "  </tbody>\n",
       "</table>\n",
       "</div>"
      ],
      "text/plain": [
       "          0         1         2         3\n",
       "0 -2.312783 -1.282637 -0.362730  0.817230\n",
       "1  1.383686  0.426663 -0.188573  0.321969\n",
       "2  0.968014  0.125666 -0.120342 -0.494726\n",
       "3 -1.707114 -0.749114 -0.639040 -0.038856"
      ]
     },
     "execution_count": 35,
     "metadata": {},
     "output_type": "execute_result"
    }
   ],
   "source": [
    "# 키워드 매개변수의 예\n",
    "import numpy as np\n",
    "import pandas as pd\n",
    "from pandas import DataFrame\n",
    "\n",
    "df1 = DataFrame(np.random.randn(4,4))\n",
    "df1"
   ]
  },
  {
   "cell_type": "code",
   "execution_count": null,
   "metadata": {},
   "outputs": [],
   "source": []
  }
 ],
 "metadata": {
  "kernelspec": {
   "display_name": "Python 3",
   "language": "python",
   "name": "python3"
  },
  "language_info": {
   "codemirror_mode": {
    "name": "ipython",
    "version": 3
   },
   "file_extension": ".py",
   "mimetype": "text/x-python",
   "name": "python",
   "nbconvert_exporter": "python",
   "pygments_lexer": "ipython3",
   "version": "3.7.4"
  }
 },
 "nbformat": 4,
 "nbformat_minor": 2
}
