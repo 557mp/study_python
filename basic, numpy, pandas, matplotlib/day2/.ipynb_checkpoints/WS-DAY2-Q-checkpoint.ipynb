{
 "cells": [
  {
   "cell_type": "markdown",
   "metadata": {},
   "source": [
    "# [Workshop] Day2\n",
    "\n",
    "### 배경 지식\n",
    "- 반복문, 조건문, 함수\n",
    "\n",
    "아래에 명시된 조건을 따라 함수를 작성하세요."
   ]
  },
  {
   "cell_type": "markdown",
   "metadata": {},
   "source": [
    "### Q1. 랜덤한 숫자 6개를 받아 출력하는 lotto 함수를 구현해보세요.\n",
    "\n",
    "- 함수 이름은 makeLotto(num)로 하세요.\n",
    "\n",
    "\n",
    "- random 모듈의 randrange() 함수를 사용해서 1부터 45까지의 값을 발생시켜 6개의 로또 번호를 출력합니다.\n",
    "    - 중복은 제외하고 6개를 출력해야합니다.\n",
    "    - 예) [5, 10, 12, 15, 22, 39]\n",
    "    \n",
    "    \n",
    "- 게임 수를 입력받아 함수의 인자(num)로 전달하세요.\n",
    "    - 입력한 게임 수 만큼 로또 게임이 출력되어야합니다.\n",
    "    - 예) 게임 수로 2를 입력한 경우\n",
    "        - 게임 1 [10, 15, 21, 39, 43, 45]\n",
    "        - 게임 2 [2, 9, 11, 18, 19, 22]\n"
   ]
  },
  {
   "cell_type": "code",
   "execution_count": 1,
   "metadata": {},
   "outputs": [],
   "source": [
    "from random import randrange\n",
    "\n",
    "def makeLotto(num):\n",
    "    num_set=set()\n",
    "    for i in range(num):\n",
    "        print('게임', i+1, end=' ')\n",
    "        \n",
    "        while True:\n",
    "            if len(num_set)>=6:\n",
    "                break\n",
    "            else:\n",
    "                num_set.add(randrange(1, 46))\n",
    "        print(list(num_set))"
   ]
  },
  {
   "cell_type": "markdown",
   "metadata": {},
   "source": [
    "### Q2. 학점을 입력받아서 학점의 평균을 출력하는 함수를 구현해보세요.\n",
    "- 함수 이름은 meanGrade(grade)로 하세요.\n",
    "\n",
    "\n",
    "- 등급에 따른 학점은 다음과 같습니다.\n",
    "    - A+ : 4.5, A : 4.3, A- : 4.0\n",
    "    - B+ : 3.5, B : 3.3, B- : 3.0\n",
    "    - C : 2.5, D : 1.5\n",
    "        \n",
    "        \n",
    "- 학점을 입력받아 함수의 인자(grade)로 전달하세요.\n",
    "    - 예) \"A+,A-,B+\"를 입력한 경우\n",
    "        - 평균 : 4.0"
   ]
  },
  {
   "cell_type": "code",
   "execution_count": 2,
   "metadata": {},
   "outputs": [],
   "source": [
    "def meanGrade(grade):\n",
    "    grd = grade.split(',')\n",
    "    \n",
    "    standard = {\n",
    "        'A+' : 4.5, 'A' : 4.3, 'A-' : 4.0,\n",
    "        'B+' : 3.5, 'B' : 3.3, 'B-' : 3.0,\n",
    "        'C' : 2.5, 'D' : 1.5\n",
    "               }\n",
    "    total = 0\n",
    "    for gr in grd:\n",
    "        total += standard[gr]\n",
    "        \n",
    "    print(total/len(gr))\n",
    "    return None"
   ]
  },
  {
   "cell_type": "markdown",
   "metadata": {},
   "source": [
    "### Q3. while 반복문을 사용하여 입력한 값에 맞는 함수를 호출하는 코드를 작성하세요.\n",
    "\n",
    "- 1을 입력하면 makeLotto 함수를 호출합니다.\n",
    "- 2를 입력하면 meanGrade 함수를 호출합니다.\n",
    "- q를 입력하면 반복문을 종료합니다.\n",
    "- 이외의 문자가 입력된 경우 '잘못입력되었습니다.'를 출력하고 입력을 다시 받습니다."
   ]
  },
  {
   "cell_type": "code",
   "execution_count": 3,
   "metadata": {},
   "outputs": [
    {
     "name": "stdout",
     "output_type": "stream",
     "text": [
      "1\n",
      "게임 1 [1, 34, 44, 21, 24, 31]\n",
      "2\n",
      "5.65\n",
      "3\n",
      "잘못입력되었습니다.\n",
      "q\n"
     ]
    }
   ],
   "source": [
    "while True:\n",
    "    user_input = input()\n",
    "    if user_input=='1':\n",
    "        makeLotto(1)\n",
    "    elif user_input=='2':\n",
    "        meanGrade('A+,B,B+')\n",
    "    elif user_input=='q':\n",
    "        break\n",
    "    else:\n",
    "        print( '잘못입력되었습니다.')\n",
    "        continue"
   ]
  },
  {
   "cell_type": "code",
   "execution_count": null,
   "metadata": {},
   "outputs": [],
   "source": []
  }
 ],
 "metadata": {
  "kernelspec": {
   "display_name": "Python 3",
   "language": "python",
   "name": "python3"
  },
  "language_info": {
   "codemirror_mode": {
    "name": "ipython",
    "version": 3
   },
   "file_extension": ".py",
   "mimetype": "text/x-python",
   "name": "python",
   "nbconvert_exporter": "python",
   "pygments_lexer": "ipython3",
   "version": "3.7.4"
  }
 },
 "nbformat": 4,
 "nbformat_minor": 2
}
