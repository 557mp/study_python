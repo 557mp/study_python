{
 "cells": [
  {
   "cell_type": "code",
   "execution_count": 1,
   "metadata": {},
   "outputs": [],
   "source": [
    "# data=input('키보드로 값을 입력하세여').split('.')\n",
    "# total=0\n",
    "\n",
    "# print(data)\n",
    "# intData=[int(i) for i in data]\n",
    "# print(type(intData))\n",
    "# print(sum(intData))"
   ]
  },
  {
   "cell_type": "code",
   "execution_count": 2,
   "metadata": {},
   "outputs": [],
   "source": [
    "\n",
    "# print(data)\n",
    "# intData=[int(i) for i in data]\n",
    "# print(type(intData))\n",
    "# print(sum(intData))\n"
   ]
  },
  {
   "cell_type": "code",
   "execution_count": 3,
   "metadata": {},
   "outputs": [],
   "source": [
    "# import numpy as np\n",
    "\n",
    "# np.random.randrange(10)"
   ]
  },
  {
   "cell_type": "code",
   "execution_count": 4,
   "metadata": {},
   "outputs": [],
   "source": [
    "# from random import randrange"
   ]
  },
  {
   "cell_type": "code",
   "execution_count": 5,
   "metadata": {},
   "outputs": [],
   "source": [
    "\n",
    "# num_set = set()\n",
    "# while True:\n",
    "#     if len(num_set)>=6:\n",
    "#         break\n",
    "#     else:\n",
    "#         num_set.add(randrange(1, 46))\n",
    "\n",
    "# num_set"
   ]
  },
  {
   "cell_type": "code",
   "execution_count": 6,
   "metadata": {},
   "outputs": [],
   "source": [
    "# def makeLotto(num):\n",
    "#     for i in range(num):\n",
    "#         print('게임', i+1, end=' ')\n",
    "        \n",
    "#         while True:\n",
    "#             if len(num_set)>=6:\n",
    "#                 break\n",
    "#             else:\n",
    "#                 num_set.add(randrange(1, 46))\n",
    "#         print(list(num_set))\n",
    "        \n",
    "        \n",
    "# makeLotto(2)"
   ]
  },
  {
   "cell_type": "code",
   "execution_count": 13,
   "metadata": {},
   "outputs": [],
   "source": [
    "def meanGrade(grade):\n",
    "    grd = grade.split(',')\n",
    "    \n",
    "    standard = {\n",
    "        'A+' : 4.5, 'A' : 4.3, 'A-' : 4.0,\n",
    "        'B+' : 3.5, 'B' : 3.3, 'B-' : 3.0,\n",
    "        'C' : 2.5, 'D' : 1.5\n",
    "               }\n",
    "    total = 0\n",
    "    for gr in grd:\n",
    "        total += standard[gr]\n",
    "        print(gr)\n",
    "        \n",
    "    return '평균'+ str(total/len(gr))"
   ]
  },
  {
   "cell_type": "code",
   "execution_count": 14,
   "metadata": {},
   "outputs": [
    {
     "name": "stdout",
     "output_type": "stream",
     "text": [
      "A+\n",
      "B+\n"
     ]
    },
    {
     "data": {
      "text/plain": [
       "'평균4.0'"
      ]
     },
     "execution_count": 14,
     "metadata": {},
     "output_type": "execute_result"
    }
   ],
   "source": [
    "meanGrade('A+,B+')"
   ]
  },
  {
   "cell_type": "markdown",
   "metadata": {},
   "source": [
    "#s = {'A':34}\n",
    "s['A']"
   ]
  },
  {
   "cell_type": "code",
   "execution_count": 10,
   "metadata": {},
   "outputs": [
    {
     "data": {
      "text/plain": [
       "['A', 'B+']"
      ]
     },
     "execution_count": 10,
     "metadata": {},
     "output_type": "execute_result"
    }
   ],
   "source": [
    "'A,B+'.split(',')"
   ]
  },
  {
   "cell_type": "code",
   "execution_count": 15,
   "metadata": {},
   "outputs": [],
   "source": [
    "def meanGrade(grade):\n",
    "    grd = grade.split(',')\n",
    "    \n",
    "    standard = {\n",
    "        'A+' : 4.5, 'A' : 4.3, 'A-' : 4.0,\n",
    "        'B+' : 3.5, 'B' : 3.3, 'B-' : 3.0,\n",
    "        'C' : 2.5, 'D' : 1.5\n",
    "               }\n",
    "    total = 0\n",
    "    for gr in grd:\n",
    "        total += standard[gr]\n",
    "        print(gr)\n",
    "        \n",
    "    print(total/len(gr))\n",
    "    return None"
   ]
  },
  {
   "cell_type": "code",
   "execution_count": 16,
   "metadata": {},
   "outputs": [
    {
     "name": "stdout",
     "output_type": "stream",
     "text": [
      "A+\n",
      "C\n",
      "7.0\n"
     ]
    }
   ],
   "source": [
    "meanGrade('A+,C')"
   ]
  },
  {
   "cell_type": "code",
   "execution_count": null,
   "metadata": {},
   "outputs": [],
   "source": []
  }
 ],
 "metadata": {
  "kernelspec": {
   "display_name": "Python 3",
   "language": "python",
   "name": "python3"
  },
  "language_info": {
   "codemirror_mode": {
    "name": "ipython",
    "version": 3
   },
   "file_extension": ".py",
   "mimetype": "text/x-python",
   "name": "python",
   "nbconvert_exporter": "python",
   "pygments_lexer": "ipython3",
   "version": "3.7.4"
  }
 },
 "nbformat": 4,
 "nbformat_minor": 2
}
