{
 "cells": [
  {
   "cell_type": "markdown",
   "metadata": {},
   "source": [
    "# [Workshop] Day2\n",
    "\n",
    "### 배경 지식\n",
    "- 반복문, 조건문, 함수\n",
    "\n",
    "아래에 명시된 조건을 따라 함수를 작성하세요."
   ]
  },
  {
   "cell_type": "markdown",
   "metadata": {},
   "source": [
    "### Q1. 랜덤한 숫자 6개를 받아 출력하는 lotto 함수를 구현해보세요.\n",
    "\n",
    "- 함수 이름은 makeLotto(num)로 하세요.\n",
    "\n",
    "\n",
    "- random 모듈의 randrange() 함수를 사용해서 1부터 45까지의 값을 발생시켜 6개의 로또 번호를 출력합니다.\n",
    "    - 중복은 제외하고 6개를 출력해야합니다.\n",
    "    - 예) [5, 10, 12, 15, 22, 39]\n",
    "    \n",
    "    \n",
    "- 게임 수를 입력받아 함수의 인자(num)로 전달하세요.\n",
    "    - 입력한 게임 수 만큼 로또 게임이 출력되어야합니다.\n",
    "    - 예) 게임 수로 2를 입력한 경우\n",
    "        - 게임 1 [10, 15, 21, 39, 43, 45]\n",
    "        - 게임 2 [2, 9, 11, 18, 19, 22]\n"
   ]
  },
  {
   "cell_type": "code",
   "execution_count": 1,
   "metadata": {},
   "outputs": [],
   "source": [
    "import random\n",
    "\n",
    "def makeLotto(num):\n",
    "    for e in range(num):\n",
    "        numbers = []\n",
    "        while len(set(numbers))!=6:\n",
    "            numbers.append(random.randrange(1,46))\n",
    "        print('게임 %d ' %(e+1),list(set(numbers)))\n"
   ]
  },
  {
   "cell_type": "code",
   "execution_count": 2,
   "metadata": {},
   "outputs": [
    {
     "name": "stdout",
     "output_type": "stream",
     "text": [
      "1\n",
      "게임 1  [2, 36, 45, 15, 21, 28]\n"
     ]
    }
   ],
   "source": [
    "num = int(input())\n",
    "makeLotto(num)"
   ]
  },
  {
   "cell_type": "markdown",
   "metadata": {},
   "source": [
    "### Q2. 학점을 입력받아서 학점의 평균을 출력하는 함수를 구현해보세요.\n",
    "- 함수 이름은 meanGrade(grade)로 하세요.\n",
    "\n",
    "\n",
    "- 등급에 따른 학점은 다음과 같습니다.\n",
    "    - A+ : 4.5, A : 4.3, A- : 4.0\n",
    "    - B+ : 3.5, B : 3.3, B- : 3.0\n",
    "    - C : 2.5, D : 1.5\n",
    "        \n",
    "        \n",
    "- 학점을 입력받아 함수의 인자(grade)로 전달하세요.\n",
    "    - 예) \"A+,A-,B+\"를 입력한 경우\n",
    "        - 평균 : 4.0"
   ]
  },
  {
   "cell_type": "code",
   "execution_count": 3,
   "metadata": {},
   "outputs": [],
   "source": [
    "def meanGrade(grade):\n",
    "    grades = grade.split(',')\n",
    "    score = {'A+' : 4.5, 'A' : 4.3, 'A-' : 4.0, 'B+' : 3.5, 'B': 3.3, 'B-': 3.0, 'C' : 2.5, 'D' : 1.5}\n",
    "    total = 0\n",
    "    for e in grades:\n",
    "        total += score[e]\n",
    "    print('평균 : %.1f' %(total/len(grades)))"
   ]
  },
  {
   "cell_type": "code",
   "execution_count": 4,
   "metadata": {},
   "outputs": [
    {
     "name": "stdout",
     "output_type": "stream",
     "text": [
      "A+\n",
      "평균 : 4.5\n"
     ]
    }
   ],
   "source": [
    "grade = input()\n",
    "meanGrade(grade)"
   ]
  },
  {
   "cell_type": "markdown",
   "metadata": {},
   "source": [
    "### Q3. while 반복문을 사용하여 입력한 값에 맞는 함수를 호출하는 코드를 작성하세요.\n",
    "\n",
    "- 1을 입력하면 makeLotto 함수를 호출합니다.\n",
    "- 2를 입력하면 meanGrade 함수를 호출합니다.\n",
    "- q를 입력하면 반복문을 종료합니다.\n",
    "- 이외의 문자가 입력된 경우 '잘못입력되었습니다.'를 출력하고 입력을 다시 받습니다."
   ]
  },
  {
   "cell_type": "code",
   "execution_count": 5,
   "metadata": {},
   "outputs": [
    {
     "name": "stdout",
     "output_type": "stream",
     "text": [
      "1\n",
      "로또 게임 수 입력 >1\n",
      "게임 1  [2, 10, 11, 15, 16, 28]\n",
      "2\n",
      "학점 입력 >A\n",
      "평균 : 4.3\n",
      "a\n",
      "잘못입력되었습니다.\n",
      "Q\n"
     ]
    }
   ],
   "source": [
    "while True:\n",
    "    key = input('1. 로또게임, 2.학점계산, q(Q).프로그램종료')\n",
    "    \n",
    "    if key == '1':\n",
    "        num = int(input('로또 게임 수 입력 >'))\n",
    "        makeLotto(num)\n",
    "        \n",
    "    elif key == '2':\n",
    "        grade = input('학점 입력 >')\n",
    "        meanGrade(grade)\n",
    "        \n",
    "    elif key == 'q' or key == 'Q':\n",
    "        break\n",
    "    else:\n",
    "        print('잘못입력되었습니다.')"
   ]
  }
 ],
 "metadata": {
  "kernelspec": {
   "display_name": "Python 3",
   "language": "python",
   "name": "python3"
  },
  "language_info": {
   "codemirror_mode": {
    "name": "ipython",
    "version": 3
   },
   "file_extension": ".py",
   "mimetype": "text/x-python",
   "name": "python",
   "nbconvert_exporter": "python",
   "pygments_lexer": "ipython3",
   "version": "3.7.5"
  }
 },
 "nbformat": 4,
 "nbformat_minor": 2
}
