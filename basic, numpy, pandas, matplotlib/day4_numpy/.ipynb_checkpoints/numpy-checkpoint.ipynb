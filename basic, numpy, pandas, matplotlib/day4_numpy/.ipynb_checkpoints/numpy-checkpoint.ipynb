{
 "cells": [
  {
   "cell_type": "markdown",
   "metadata": {},
   "source": [
    "## 배열 생성"
   ]
  },
  {
   "cell_type": "code",
   "execution_count": null,
   "metadata": {},
   "outputs": [],
   "source": [
    "'''\n",
    "수학관련분야 통계연산시 사용되는 파이썬의 라이브러리\n",
    "1) array()\n",
    "2) random()\n",
    "'''"
   ]
  },
  {
   "cell_type": "code",
   "execution_count": 7,
   "metadata": {},
   "outputs": [
    {
     "name": "stdout",
     "output_type": "stream",
     "text": [
      "[4, 5, 6, 7] <class 'list'>\n",
      "[4 5 6 7] <class 'numpy.ndarray'> \t<--- 출력 결과물!\n"
     ]
    },
    {
     "data": {
      "text/plain": [
       "array([4, 5, 6, 7])"
      ]
     },
     "execution_count": 7,
     "metadata": {},
     "output_type": "execute_result"
    }
   ],
   "source": [
    "import numpy as np\n",
    "\n",
    "myList = [4,5,6,7]\n",
    "print(myList,type(myList))\n",
    "\n",
    "myArr = np.array(myList)\n",
    "print(myArr, type(myArr), '\\t<--- 출력 결과물!') # nd = n dimension , dnarray는 list 기반\n",
    "myArr # 이런식으로 출력하는 것은 정식이 아니다. --> print(myArr)\n",
    "# [4 5 6 7] <--- 이것이 출력 결과이다. 문제 나온다. array([4, 5, 6, 7]) 이거 아니다!!!!"
   ]
  },
  {
   "cell_type": "code",
   "execution_count": null,
   "metadata": {},
   "outputs": [],
   "source": [
    "'''\n",
    "리스트와 np.array 차이점\n",
    "1. 출력 결과가 다르게 나타난다. comma 없다.\n",
    "2. 리스트 보다 np.array가 빠르고 메모리 효율이 높다.\n",
    "3. 자료형이 여러개 가능 vs. 한가지만 가능\n",
    "'''"
   ]
  },
  {
   "cell_type": "code",
   "execution_count": 17,
   "metadata": {},
   "outputs": [
    {
     "name": "stdout",
     "output_type": "stream",
     "text": [
      "[0.83959437 0.74012586 0.18009267 0.60569015 0.34768209] <class 'numpy.ndarray'>\n",
      "[7 3 6 2 8 8 5 8 8 2]\n",
      "[ 0.93160388 -1.92699903  1.09925615  1.34430736 -0.87830932  0.55763882\n",
      " -0.44312328 -1.08485655 -0.28109451  0.4074743 ]\n"
     ]
    }
   ],
   "source": [
    "a = np.random.rand(5)\n",
    "print(a, type(a))\n",
    "\n",
    "b = np.random.randint(1,10,10) # 10은 포함 안한다. 중복 가능\n",
    "print(b)\n",
    "\n",
    "c = np.random.randn(10) # 가우시안 분포\n",
    "print(c)"
   ]
  },
  {
   "cell_type": "markdown",
   "metadata": {},
   "source": [
    "## 배열 초기화"
   ]
  },
  {
   "cell_type": "code",
   "execution_count": null,
   "metadata": {},
   "outputs": [],
   "source": [
    "'''\n",
    "3-9\n",
    "zeros(), ones(), eye(), full(,), arange(), ...\n",
    "'''"
   ]
  },
  {
   "cell_type": "code",
   "execution_count": 33,
   "metadata": {},
   "outputs": [
    {
     "name": "stdout",
     "output_type": "stream",
     "text": [
      "[0. 0. 0. 0. 0. 0. 0. 0. 0. 0.]\n",
      "[1. 1. 1. 1. 1. 1. 1. 1. 1. 1.]\n",
      " [0 1 2] \n",
      " [3 4 5 6] \n",
      " [3 5 7 9]\n",
      "[4. 4. 4. 4. 4. 4. 4. 4. 4. 4.]\n",
      "[3. 3. 3. 3. 3.]\n",
      "[[7 7 7 7 7]\n",
      " [7 7 7 7 7]\n",
      " [7 7 7 7 7]\n",
      " [7 7 7 7 7]\n",
      " [7 7 7 7 7]]\n"
     ]
    }
   ],
   "source": [
    "zeros = np.zeros(10)   # 실수값 0.0 으로 채운다.\n",
    "print(zeros)\n",
    "\n",
    "ones = np.ones(10)    # 실수값 1.0 으로 채운다.\n",
    "print(ones)\n",
    "\n",
    "print('', np.arange(3), '\\n', np.arange(3,7), '\\n', np.arange(3,10,2)) # arange(x,y,z)  z = 스텝이다.  (갯수 아니다!  rand는 갯수이다!\n",
    "\n",
    "'''\n",
    "np.array에 연산적용 할 수 있다. 모든 원소에 적용한다.\n",
    "'''\n",
    "print(np.ones(10)*4)\n",
    "print(np.zeros(5)+3)\n",
    "\n",
    "full = np.full((5,5), 7)\n",
    "print(full)   # INT 값으로 되네?"
   ]
  },
  {
   "cell_type": "code",
   "execution_count": 39,
   "metadata": {},
   "outputs": [
    {
     "name": "stdout",
     "output_type": "stream",
     "text": [
      "[1, 2, 3, '사만다']\n",
      "['1' '2' '3' '사만다'] <class 'numpy.ndarray'>\n"
     ]
    },
    {
     "data": {
      "text/plain": [
       "array(['1', '2', '3', '사만다'], dtype='<U11')"
      ]
     },
     "execution_count": 39,
     "metadata": {},
     "output_type": "execute_result"
    }
   ],
   "source": [
    "L = [ 1,2,3, '사만다']\n",
    "print(L)                 # 다른 형태의 값들이 함게 들어갈 수 있다.\n",
    "\n",
    "narr = np.array(L)\n",
    "print(narr, type(narr))              # 같은 형태의 값만 들어갈 수 있다.\n",
    "narr"
   ]
  },
  {
   "cell_type": "code",
   "execution_count": 40,
   "metadata": {},
   "outputs": [
    {
     "name": "stdout",
     "output_type": "stream",
     "text": [
      "[1. 2. 3. 4.]\n"
     ]
    }
   ],
   "source": [
    "narr_1 = np.array([1,2,3,4], dtype=np.float)\n",
    "print(narr_1)"
   ]
  },
  {
   "cell_type": "markdown",
   "metadata": {},
   "source": [
    "## np.array 속성, 함수"
   ]
  },
  {
   "cell_type": "code",
   "execution_count": 48,
   "metadata": {},
   "outputs": [
    {
     "name": "stdout",
     "output_type": "stream",
     "text": [
      "[[1 2 3]\n",
      " [4 5 6]] <class 'numpy.ndarray'>\n"
     ]
    }
   ],
   "source": [
    "arr1 = np.array([[1.0, 2.1, 3],[4,5,6]], dtype = np.int32)\n",
    "print(arr1, type(arr1))"
   ]
  },
  {
   "cell_type": "code",
   "execution_count": 52,
   "metadata": {},
   "outputs": [
    {
     "name": "stdout",
     "output_type": "stream",
     "text": [
      "2\n",
      "(2, 3)\n",
      "6\n",
      "--------------------\n",
      "2\n",
      "(2, 3)\n",
      "6\n"
     ]
    }
   ],
   "source": [
    "print(np.ndim(arr1))\n",
    "print(np.shape(arr1))   # shape 결과는 튜플로 나온다.\n",
    "print(np.size(arr1))\n",
    "print('-'*20)  # (위) 함수      (밑) 속성\n",
    "print(arr1.ndim)\n",
    "print(arr1.shape)   # shape 결과는 튜플로 나온다.\n",
    "print(arr1.size)"
   ]
  },
  {
   "cell_type": "code",
   "execution_count": 60,
   "metadata": {},
   "outputs": [
    {
     "name": "stdout",
     "output_type": "stream",
     "text": [
      "[ 0  1  2  3  4  5  6  7  8  9 10 11 12 13 14 15 16 17 18 19 20 21 22 23\n",
      " 24 25 26 27 28 29 30 31]\n",
      "\n",
      "1\n",
      "(32,)\n",
      "32\n",
      "\n",
      "[[ 0  1  2  3  4  5  6  7]\n",
      " [ 8  9 10 11 12 13 14 15]\n",
      " [16 17 18 19 20 21 22 23]\n",
      " [24 25 26 27 28 29 30 31]]\n"
     ]
    }
   ],
   "source": [
    "arr2 = np.arange(32)\n",
    "print(arr2)\n",
    "\n",
    "print('')\n",
    "print(arr2.ndim)\n",
    "print(arr2.shape)\n",
    "print(arr2.size)\n",
    "\n",
    "print('')\n",
    "print(arr2.reshape(4,8))"
   ]
  },
  {
   "cell_type": "code",
   "execution_count": 80,
   "metadata": {},
   "outputs": [
    {
     "name": "stdout",
     "output_type": "stream",
     "text": [
      "[[ 1.76405235  0.40015721  0.97873798  2.2408932 ]\n",
      " [ 1.86755799 -0.97727788  0.95008842 -0.15135721]\n",
      " [-0.10321885  0.4105985   0.14404357  1.45427351]\n",
      " [ 0.76103773  0.12167502  0.44386323  0.33367433]]\n"
     ]
    }
   ],
   "source": [
    "arr3 = np.random.randn(4,4)    # 실행할 때마다 값이 변한다.\n",
    "print(arr3)\n",
    "\n",
    "np.random.seed(0)     # 시드값을 설정하면 값이 고정된다. 심지어 서로 같은 값을 공유한다."
   ]
  },
  {
   "cell_type": "markdown",
   "metadata": {},
   "source": [
    "## 인덱싱과 슬라이싱"
   ]
  },
  {
   "cell_type": "code",
   "execution_count": 83,
   "metadata": {},
   "outputs": [
    {
     "name": "stdout",
     "output_type": "stream",
     "text": [
      "[[15 10 13 13]\n",
      " [17 19 13 15]\n",
      " [12 14 17 16]\n",
      " [18 18 11 16]]\n"
     ]
    }
   ],
   "source": [
    "np.random.seed(0)\n",
    "arr4 = np.random.randint(10,20,16).reshape(4,4)\n",
    "print(arr4)"
   ]
  },
  {
   "cell_type": "code",
   "execution_count": 99,
   "metadata": {},
   "outputs": [
    {
     "name": "stdout",
     "output_type": "stream",
     "text": [
      "13\n",
      "[17 19 13 15] [17 19 13 15] [17 19 13 15] [17 19 13 15] \t [[17 19 13 15]]\n",
      "[13 15 16 16] [13 15 16 16] \n",
      " [[13]\n",
      " [15]\n",
      " [16]\n",
      " [16]]\n"
     ]
    }
   ],
   "source": [
    "'''\n",
    "(문제)\n",
    "1. arr4에서 첫번째 줄의 첫 13을 가져오려면?\n",
    "2. 두번째 줄의 값들을 가져오려면?\n",
    "3. 전체 행에 대해서 4번재 열을 가지고 오려면?\n",
    "'''\n",
    "\n",
    "print(arr4[0, 2]) # print(arr4[0][2])\n",
    "print(arr4[1,], arr4[1,:], arr4[1], arr4[1,0:], '\\t', arr4[1:2,:])\n",
    "print(arr4[:,3], arr4[0:, 3], '\\n', arr4[:,3:4])"
   ]
  },
  {
   "cell_type": "markdown",
   "metadata": {},
   "source": [
    "## 인덱싱과 조건 슬라이싱"
   ]
  },
  {
   "cell_type": "code",
   "execution_count": 116,
   "metadata": {},
   "outputs": [
    {
     "name": "stdout",
     "output_type": "stream",
     "text": [
      "[[1.76405235 0.40015721 0.97873798 2.2408932 ]\n",
      " [1.86755799 0.         0.95008842 0.        ]\n",
      " [0.         0.4105985  0.14404357 1.45427351]\n",
      " [0.76103773 0.12167502 0.44386323 0.33367433]]\n",
      "[[ True False False  True]\n",
      " [ True False False False]\n",
      " [False False False  True]\n",
      " [False False False False]]\n",
      "\n",
      "[[1.76405235 0.         0.         2.2408932 ]\n",
      " [1.86755799 0.         0.         0.        ]\n",
      " [0.         0.         0.         1.45427351]\n",
      " [0.         0.         0.         0.        ]]\n",
      "[1.76405235 2.2408932  1.86755799 1.45427351]\n"
     ]
    }
   ],
   "source": [
    "print(arr3)\n",
    "print(arr3>1)\n",
    "\n",
    "print('')\n",
    "print((arr3>1)*arr3)\n",
    "print(arr3[arr3>1])"
   ]
  },
  {
   "cell_type": "code",
   "execution_count": 121,
   "metadata": {},
   "outputs": [
    {
     "name": "stdout",
     "output_type": "stream",
     "text": [
      "[[1.76405235 0.40015721 0.97873798 2.2408932 ]\n",
      " [1.86755799 0.         0.95008842 0.        ]\n",
      " [0.         0.4105985  0.14404357 1.45427351]\n",
      " [0.76103773 0.12167502 0.44386323 0.33367433]]\n",
      "[[1.76405235 0.40015721 0.97873798 2.2408932 ]\n",
      " [1.86755799 0.         0.95008842 0.        ]\n",
      " [0.         0.4105985  0.14404357 1.45427351]\n",
      " [0.76103773 0.12167502 0.44386323 0.33367433]]\n"
     ]
    }
   ],
   "source": [
    "print(arr3)\n",
    "arr3[arr3<0] = 0        # 중요하다!!!"
   ]
  },
  {
   "cell_type": "markdown",
   "metadata": {},
   "source": [
    "## numpy 통계함수"
   ]
  },
  {
   "cell_type": "code",
   "execution_count": 125,
   "metadata": {},
   "outputs": [
    {
     "name": "stdout",
     "output_type": "stream",
     "text": [
      "[[15 10 13 13]\n",
      " [17 19 13 15]\n",
      " [12 14 17 16]\n",
      " [18 18 11 16]] \n",
      "\n",
      "237\n",
      "[62 61 54 60]\n",
      "[51 64 59 63]\n"
     ]
    }
   ],
   "source": [
    "'''\n",
    "sum(), max(), min(), cumsum(), argmax()\n",
    "'''\n",
    "print(arr4, '\\n')\n",
    "\n",
    "print(np.sum(arr4))\n",
    "print(np.sum(arr4, axis=0))    # 결과값: 행   \n",
    "print(np.sum(arr4, axis=1))    # 결과값: 열    즉, 행의 합산을 나타낸다.   15+10+13+13 = 51"
   ]
  },
  {
   "cell_type": "code",
   "execution_count": null,
   "metadata": {},
   "outputs": [],
   "source": []
  }
 ],
 "metadata": {
  "kernelspec": {
   "display_name": "Python 3",
   "language": "python",
   "name": "python3"
  },
  "language_info": {
   "codemirror_mode": {
    "name": "ipython",
    "version": 3
   },
   "file_extension": ".py",
   "mimetype": "text/x-python",
   "name": "python",
   "nbconvert_exporter": "python",
   "pygments_lexer": "ipython3",
   "version": "3.7.4"
  }
 },
 "nbformat": 4,
 "nbformat_minor": 2
}
