{
 "cells": [
  {
   "cell_type": "markdown",
   "metadata": {},
   "source": [
    "## Series"
   ]
  },
  {
   "cell_type": "code",
   "execution_count": 2,
   "metadata": {},
   "outputs": [],
   "source": [
    "import numpy as np\n",
    "import pandas as pd\n",
    "from pandas import Series, DataFrame\n",
    "import matplotlib.pyplot as plt"
   ]
  },
  {
   "cell_type": "code",
   "execution_count": 31,
   "metadata": {},
   "outputs": [
    {
     "name": "stdout",
     "output_type": "stream",
     "text": [
      "a    15\n",
      "b    12\n",
      "c    12\n",
      "d    16\n",
      "e    17\n",
      "dtype: int32\n",
      "\n",
      "Index(['a', 'b', 'c', 'd', 'e'], dtype='object')\n",
      "[15 12 12 16 17]\n",
      "int32\n"
     ]
    },
    {
     "data": {
      "text/plain": [
       "a    15\n",
       "b    12\n",
       "c    12\n",
       "d    16\n",
       "e    17\n",
       "dtype: int32"
      ]
     },
     "execution_count": 31,
     "metadata": {},
     "output_type": "execute_result"
    }
   ],
   "source": [
    "'''\n",
    "시리즈는 데이터, 객체를 담는 1차원 배열구조 = 벡터\n",
    "객체의 문자열 표현: (왼쪽)index, (오른쪽)value\n",
    "'''\n",
    "np.random.seed(113)\n",
    "\n",
    "# Series?\n",
    "ser1 = Series( np.random.randint(10,20,5), index=list('abcde') )\n",
    "print(ser1)\n",
    "print('')\n",
    "print(ser1.index)\n",
    "print(ser1.values)    # np.array 형태 !\n",
    "print(ser1.dtype)     # 값의 타입\n",
    "ser1"
   ]
  },
  {
   "cell_type": "markdown",
   "metadata": {},
   "source": [
    "## 인덱싱, 슬라이싱"
   ]
  },
  {
   "cell_type": "code",
   "execution_count": 32,
   "metadata": {},
   "outputs": [
    {
     "name": "stdout",
     "output_type": "stream",
     "text": [
      "12\n",
      "12\n",
      "\n",
      "b    12\n",
      "c    12\n",
      "d    16\n",
      "dtype: int32\n",
      "b    12\n",
      "c    12\n",
      "d    16\n",
      "dtype: int32\n"
     ]
    }
   ],
   "source": [
    "'''\n",
    "슬라이싱 방법\n",
    "1) index 사용\n",
    "2) label 사용 - 문자\n",
    "'''\n",
    "\n",
    "print(ser1['c'])\n",
    "print(ser1[2])\n",
    "print('')\n",
    "print(ser1[1:4])          # 끝 포함 X\n",
    "print(ser1['b':'d'])      # 끝 포함 O"
   ]
  },
  {
   "cell_type": "code",
   "execution_count": 33,
   "metadata": {},
   "outputs": [
    {
     "name": "stdout",
     "output_type": "stream",
     "text": [
      "a    15\n",
      "c    12\n",
      "e    17\n",
      "dtype: int32\n"
     ]
    }
   ],
   "source": [
    "#'a', 'c', 'e' 만 검색되도록 슬라이싱, 2steps\n",
    "ser1_1 = ser1[::2]\n",
    "print(ser1_1)"
   ]
  },
  {
   "cell_type": "markdown",
   "metadata": {},
   "source": [
    "## 연산"
   ]
  },
  {
   "cell_type": "code",
   "execution_count": 36,
   "metadata": {},
   "outputs": [
    {
     "name": "stdout",
     "output_type": "stream",
     "text": [
      "a    30.0\n",
      "b     NaN\n",
      "c    24.0\n",
      "d     NaN\n",
      "e    34.0\n",
      "dtype: float64\n"
     ]
    }
   ],
   "source": [
    "ser_res = ser1 + ser1_1\n",
    "print(ser_res)          # ser1_1 에 'b', 'd' 의 값이 없기 때문에 누락 데이터, NaN   /  NaN이 float이기때문에, 30.0 으로 자료형 통일"
   ]
  },
  {
   "cell_type": "code",
   "execution_count": 44,
   "metadata": {},
   "outputs": [
    {
     "name": "stdout",
     "output_type": "stream",
     "text": [
      "a    False\n",
      "b     True\n",
      "c    False\n",
      "d     True\n",
      "e    False\n",
      "dtype: bool\n",
      "a     True\n",
      "b    False\n",
      "c     True\n",
      "d    False\n",
      "e     True\n",
      "dtype: bool\n",
      "\n",
      "2\n",
      "a    30.0\n",
      "c    24.0\n",
      "e    34.0\n",
      "dtype: float64\n"
     ]
    }
   ],
   "source": [
    "# isnull(), notnull()\n",
    "print(ser_res.isnull())\n",
    "print(ser_res.notnull())\n",
    "print('')\n",
    "print(ser_res.isnull().sum())\n",
    "print(ser_res[ser_res.notnull()])"
   ]
  },
  {
   "cell_type": "markdown",
   "metadata": {},
   "source": [
    "## 시각화"
   ]
  },
  {
   "cell_type": "code",
   "execution_count": 49,
   "metadata": {},
   "outputs": [
    {
     "data": {
      "image/png": "[encoded data removed]",
      "text/plain": [
       "<Figure size 432x288 with 1 Axes>"
      ]
     },
     "metadata": {
      "needs_background": "light"
     },
     "output_type": "display_data"
    }
   ],
   "source": [
    "'''\n",
    "누락데이터 아닌 것을 나타내기\n",
    "'''\n",
    "ser_res[ser_res.notnull()].plot(kind = 'bar')\n",
    "plt.show()"
   ]
  },
  {
   "cell_type": "code",
   "execution_count": null,
   "metadata": {},
   "outputs": [],
   "source": []
  }
 ],
 "metadata": {
  "kernelspec": {
   "display_name": "Python 3",
   "language": "python",
   "name": "python3"
  },
  "language_info": {
   "codemirror_mode": {
    "name": "ipython",
    "version": 3
   },
   "file_extension": ".py",
   "mimetype": "text/x-python",
   "name": "python",
   "nbconvert_exporter": "python",
   "pygments_lexer": "ipython3",
   "version": "3.7.4"
  }
 },
 "nbformat": 4,
 "nbformat_minor": 2
}
