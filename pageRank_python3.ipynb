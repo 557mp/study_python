{
 "cells": [
  {
   "cell_type": "markdown",
   "metadata": {},
   "source": [
    "Pagerank\n",
    "ref: https://gist.github.com/diogojc/1338222/84d767a68da711a154778fb1d00e772d65322187"
   ]
  },
  {
   "cell_type": "code",
   "execution_count": 8,
   "metadata": {},
   "outputs": [],
   "source": [
    "import numpy as np\n",
    "from scipy.sparse import csc_matrix\n",
    "\n",
    "def pageRank(G, s = .85, maxerr = .0001):\n",
    "    \"\"\"\n",
    "    Computes the pagerank for each of the n states\n",
    "    Parameters\n",
    "    ----------\n",
    "    G: matrix representing state transitions\n",
    "       Gij is a binary value representing a transition from state i to j.\n",
    "    s: probability of following a transition. 1-s probability of teleporting\n",
    "       to another state.\n",
    "    maxerr: if the sum of pageranks between iterations is bellow this we will\n",
    "            have converged.\n",
    "    \"\"\"\n",
    "    n = G.shape[0]\n",
    "\n",
    "    # transform G into markov matrix A\n",
    "    A = csc_matrix(G,dtype=np.float)\n",
    "    rsums = np.array(A.sum(1))[:,0]\n",
    "    ri, ci = A.nonzero()\n",
    "    A.data /= rsums[ri]\n",
    "\n",
    "    # bool array of sink states\n",
    "    sink = rsums==0\n",
    "\n",
    "    # Compute pagerank r until we converge\n",
    "    ro, r = np.zeros(n), np.ones(n)\n",
    "    while np.sum(np.abs(r-ro)) > maxerr:\n",
    "        ro = r.copy()\n",
    "        # calculate each pagerank at a time\n",
    "        for i in range(len(G)):\n",
    "#       for i in xrange(0,n):   #origin\n",
    "            # inlinks of state i\n",
    "            Ai = np.array(A[:,i].todense())[:,0]\n",
    "            # account for sink states\n",
    "            Di = sink / float(n)\n",
    "            # account for teleportation to state i\n",
    "            Ei = np.ones(n) / float(n)\n",
    "\n",
    "            r[i] = ro.dot( Ai*s + Di*s + Ei*(1-s) )\n",
    "\n",
    "    # return normalized pagerank\n",
    "    return r/float(sum(r))"
   ]
  },
  {
   "cell_type": "code",
   "execution_count": 13,
   "metadata": {},
   "outputs": [
    {
     "name": "stdout",
     "output_type": "stream",
     "text": [
      "[0.03943712 0.03535365 0.0574229  0.24351734 0.21364733 0.03110844\n",
      " 0.37951322]\n"
     ]
    }
   ],
   "source": [
    "if __name__=='__main__':\n",
    "    # Example extracted from 'Introduction to Information Retrieval'\n",
    "    G = np.array([[1,1,1,1,0,0,1],\n",
    "                  [0,1,1,0,0,0,1],\n",
    "                  [1,0,1,1,0,0,0],\n",
    "                  [0,0,0,1,1,0,1],\n",
    "                  [0,0,0,0,0,0,1],\n",
    "                  [0,0,0,0,0,1,1],\n",
    "                  [0,0,0,1,1,0,1]])\n",
    "    print (pageRank(G,s=.86))"
   ]
  }
 ],
 "metadata": {
  "kernelspec": {
   "display_name": "Python 3",
   "language": "python",
   "name": "python3"
  },
  "language_info": {
   "codemirror_mode": {
    "name": "ipython",
    "version": 3
   },
   "file_extension": ".py",
   "mimetype": "text/x-python",
   "name": "python",
   "nbconvert_exporter": "python",
   "pygments_lexer": "ipython3",
   "version": "3.6.3"
  }
 },
 "nbformat": 4,
 "nbformat_minor": 2
}
