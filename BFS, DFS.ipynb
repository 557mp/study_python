{
 "cells": [
  {
   "cell_type": "markdown",
   "metadata": {},
   "source": [
    "Reference: <br>\n",
    "github.com/minsuk-heo/problemsolving/blob/master/graph/bfs.py <br>\n",
    "https://github.com/minsuk-heo/problemsolving/blob/master/graph/bfs.py <br>\n",
    "https://www.youtube.com/watch?v=BLc3wzvycH8 <br>\n",
    "https://github.com/minsuk-heo/problemsolving/blob/master/graph/bfs.py"
   ]
  },
  {
   "cell_type": "code",
   "execution_count": 1,
   "metadata": {},
   "outputs": [
    {
     "name": "stdout",
     "output_type": "stream",
     "text": [
      "[[1, 2], [0, 3], [0, 4, 5], [1], [2, 6], [2], [4]]\n"
     ]
    }
   ],
   "source": [
    "vertexList = ['A', 'B', 'C', 'D', 'E', 'F', 'G']    # 별 의미는 없다.\n",
    "edgeList = [(0,1), (0,2), (1,0), (1,3), (2,0), (2,4), (2,5), (3,1), (4,2), (4,6), (5,2), (6,4)]   # \n",
    "visitedList = []\n",
    "adjacencyList = [[] for vertex in vertexList]\n",
    "\n",
    "# fill adjacencyList from graph\n",
    "for edge in edgeList:\n",
    "    adjacencyList[edge[0]].append(edge[1])\n",
    "    \n",
    "print(adjacencyList)"
   ]
  },
  {
   "cell_type": "markdown",
   "metadata": {},
   "source": [
    "너비 우선 탐색(BFS)의 시간 복잡도: <br>\n",
    "\n",
    "인접 리스트로 표현된 그래프: O(N+E) <br>\n",
    "인접 행렬로 표현된 그래프: O(N^2) <br>\n",
    "미로 찾기와 같은 경우에 유용하다."
   ]
  },
  {
   "cell_type": "code",
   "execution_count": 21,
   "metadata": {},
   "outputs": [
    {
     "name": "stdout",
     "output_type": "stream",
     "text": [
      "0 6 [0] []\n",
      "1 6 [0, 1] []\n",
      "3 6 [0, 1, 3] []\n",
      "2 6 [0, 1, 3, 2] []\n",
      "4 6 [0, 1, 3, 2, 4] []\n",
      "6 6 [0, 1, 3, 2, 4, 6] [[0, 1, 3, 2, 4, 6]]\n",
      "5 6 [0, 1, 3, 2, 4, 6, 5] [[0, 1, 3, 2, 4, 6]]\n",
      "\n",
      " [[0, 1, 3, 2, 4, 6]]\n"
     ]
    }
   ],
   "source": [
    "### QUEUE\n",
    "\n",
    "def bfs(adj, visited, queue):\n",
    "    while(queue):\n",
    "        tmp = queue.pop(0)\n",
    "        \n",
    "        for neighbor in adj[tmp]:\n",
    "            if neighbor not in visited:\n",
    "                queue.append(neighbor)\n",
    "\n",
    "        visited.append(tmp)\n",
    "        \n",
    "    return visited\n",
    "\n",
    "_paths = []\n",
    "def bfs_paths(graph, start, end, path=[]):\n",
    "    # 행위 / 예외\n",
    "    path += [start]\n",
    "    \n",
    "\n",
    "    # 종료 조건 / 특정 조건\n",
    "    if start == end:\n",
    "        _paths.append(path+[])    ### 맨 하단에 [] 쓴 이유가...\n",
    "        \n",
    "    print(start, end, path, _paths)        \n",
    "  \n",
    "    # 재귀 조건\n",
    "    queue = [start]\n",
    "    while(queue):\n",
    "        current = queue.pop(0)\n",
    "        \n",
    "        for node in graph[current]:\n",
    "            if node not in path:\n",
    "                bfs_paths(graph, node, end, path)\n",
    "\n",
    "bfs_paths(adjacencyList, 0,6)\n",
    "print('\\n', _paths)\n",
    "\n",
    "# 아... 이게  path 는 주소 자체를 가르키므로, path 가 바뀌면 바뀐다. string의 경우에는 동째로 옮기기 땜에 이런 문제가 없다."
   ]
  },
  {
   "cell_type": "code",
   "execution_count": 3,
   "metadata": {},
   "outputs": [
    {
     "data": {
      "text/plain": [
       "[0, 1, 2, 3, 4, 5, 6]"
      ]
     },
     "execution_count": 3,
     "metadata": {},
     "output_type": "execute_result"
    }
   ],
   "source": [
    "bfs(adjacencyList, [], [0])"
   ]
  },
  {
   "cell_type": "code",
   "execution_count": 9,
   "metadata": {},
   "outputs": [
    {
     "name": "stdout",
     "output_type": "stream",
     "text": [
      "[[1, 0, 2, 4, 6]]\n"
     ]
    }
   ],
   "source": [
    "### STACK\n",
    "\n",
    "def dfs(adj, visited, queue):\n",
    "    while(queue):\n",
    "        tmp = queue.pop(-1)\n",
    "        \n",
    "        for neighbor in adj[tmp]:\n",
    "            if neighbor not in visited:\n",
    "                queue.append(neighbor)\n",
    "\n",
    "        visited.append(tmp)\n",
    "        \n",
    "    return visited    \n",
    "\n",
    "paths = []\n",
    "def dfs_paths(graph, start, end, path=[]):\n",
    "    # action\n",
    "    path += [start]\n",
    "    \n",
    "    # end condition\n",
    "    if start == end:\n",
    "        paths.append(path+[])\n",
    "    \n",
    "    # recursion term\n",
    "    stack = [start]\n",
    "    \n",
    "    while(stack):\n",
    "        current = stack.pop(-1)\n",
    "        \n",
    "        for node in graph[current]:\n",
    "            if node not in path:\n",
    "                dfs_paths(graph, node, end, path)\n",
    "\n",
    "dfs_paths(adjacencyList, 1, 6)\n",
    "print(paths)"
   ]
  },
  {
   "cell_type": "code",
   "execution_count": 5,
   "metadata": {},
   "outputs": [
    {
     "data": {
      "text/plain": [
       "[0, 2, 5, 4, 6, 1, 3]"
      ]
     },
     "execution_count": 5,
     "metadata": {},
     "output_type": "execute_result"
    }
   ],
   "source": [
    "dfs(adjacencyList, [], [0])"
   ]
  },
  {
   "cell_type": "markdown",
   "metadata": {},
   "source": [
    "<b>또 다른 BFS</b> <br>\n",
    "reference: https://is.gd/3ecmk4 <br>\n",
    "<img src=\"https://t1.daumcdn.net/cfile/tistory/232E5744577B26B505\" width=\"500\" height=\"500\">"
   ]
  },
  {
   "cell_type": "code",
   "execution_count": 6,
   "metadata": {},
   "outputs": [
    {
     "data": {
      "text/plain": [
       "{'세종': {'강릉', '광주', '대구', '서울'},\n",
       " '서울': {'세종', '인천', '평양'},\n",
       " '강릉': {'독도', '세종'},\n",
       " '광주': {'세종', '여수'},\n",
       " '대구': {'세종', '울산'},\n",
       " '평양': {'서울'},\n",
       " '인천': {'서울'},\n",
       " '독도': {'강릉'},\n",
       " '여수': {'광주', '부산'},\n",
       " '울산': {'대구', '부산'},\n",
       " '부산': {'여수', '울산'}}"
      ]
     },
     "execution_count": 6,
     "metadata": {},
     "output_type": "execute_result"
    }
   ],
   "source": [
    "korea = {'세종': set(['서울', '강릉', '대구', '광주']),\n",
    "         '서울': set(['평양', '인천', '세종']),\n",
    "         '강릉': set(['독도', '세종']),\n",
    "         '광주': set(['세종', '여수']),\n",
    "         '대구': set(['세종', '울산']),\n",
    "         '평양': set(['서울', ]),\n",
    "         '인천': set(['서울', ]),\n",
    "         '독도': set(['강릉', ]),\n",
    "         '여수': set(['광주', '부산']),\n",
    "         '울산': set(['대구', '부산']),\n",
    "         '부산': set(['여수', '울산']),\n",
    "         }\n",
    "\n",
    "korea"
   ]
  },
  {
   "cell_type": "code",
   "execution_count": 7,
   "metadata": {},
   "outputs": [
    {
     "name": "stdout",
     "output_type": "stream",
     "text": [
      "['세종', '서울', '대구', '광주', '강릉', '평양', '인천', '울산', '여수', '독도', '부산']\n"
     ]
    }
   ],
   "source": [
    "def bfs(graph, root):\n",
    "  visited = [] # 방문한 곳을 기록\n",
    "  queue = [root] # 큐에 시작점을 줄세움\n",
    " \n",
    "  while queue: # queue 가 빌 때 까지 탐색을 계속\n",
    "    vertex = queue.pop(0) # 큐의 맨 앞의 원소를 방문할 꼭짓점으로 설정\n",
    " \n",
    "    if vertex not in visited: # 꼭짓점이 방문된 적이 없다면 방문 기록에 추가\n",
    "      visited.append(vertex)\n",
    "      for node in graph[vertex]: # 꼭짓점에 연결된 노드들 중\n",
    "        if node not in visited: # 방문 안 된 곳 만을\n",
    "          queue.append(node) # 큐에 줄세움\n",
    " \n",
    "  return visited\n",
    " \n",
    "##### 실행결과 #####\n",
    "print(bfs(korea, '세종'))"
   ]
  },
  {
   "cell_type": "markdown",
   "metadata": {},
   "source": [
    "<b> 재귀를 이용한 BFS 경로 탐색</b>"
   ]
  },
  {
   "cell_type": "code",
   "execution_count": 20,
   "metadata": {},
   "outputs": [
    {
     "name": "stdout",
     "output_type": "stream",
     "text": [
      "None\n",
      "\n",
      " [['부산', '울산', '대구', '세종', '서울', '평양'], ['부산', '여수', '광주', '세종', '서울', '평양']]\n"
     ]
    }
   ],
   "source": [
    "paths = []\n",
    " \n",
    "def bfs_paths(graph, start, end, path=[]):\n",
    "  # 그전 방문했던 노드들 유지. 이번 차례 방문하는 꼭짓점도 visited에 추가\n",
    "    path = path + [start]\n",
    " \n",
    "  # 목적지에 도달했으면 paths 에 경로 기록 후 종료 / 종료 조건\n",
    "    if start == end:\n",
    "#         return path   <-- 이런 경우를 조심해야 한다. 즉, 재귀 안에서 선언한 것은 밖으로 잘 나가지 않음 !!\n",
    "        paths.append(path+[])\n",
    "   \n",
    "  # bfs 와 같음\n",
    "    queue = [start]\n",
    " \n",
    "    while queue:\n",
    "        vertex = queue.pop(0)\n",
    " \n",
    "        for node in graph[vertex]:\n",
    "          if node not in path:\n",
    "        # 방문하지 않은 자손들에 대해 쭈우욱 재귀 호출\n",
    "            bfs_paths(graph, node, end, path)\n",
    "\n",
    "##### 실행결과 #####\n",
    "print(bfs_paths(korea, '부산', '평양'))\n",
    "print('\\n',paths)"
   ]
  },
  {
   "cell_type": "code",
   "execution_count": null,
   "metadata": {},
   "outputs": [],
   "source": []
  }
 ],
 "metadata": {
  "kernelspec": {
   "display_name": "Python 3",
   "language": "python",
   "name": "python3"
  },
  "language_info": {
   "codemirror_mode": {
    "name": "ipython",
    "version": 3
   },
   "file_extension": ".py",
   "mimetype": "text/x-python",
   "name": "python",
   "nbconvert_exporter": "python",
   "pygments_lexer": "ipython3",
   "version": "3.7.1"
  }
 },
 "nbformat": 4,
 "nbformat_minor": 2
}
