{
 "cells": [
  {
   "cell_type": "code",
   "execution_count": 1,
   "metadata": {},
   "outputs": [],
   "source": [
    "A = \"ABCDA\"\n",
    "B = \"ACBDEA\"\n",
    "la = len(A)+1\n",
    "lb = len(B)+1\n",
    "# print(A[-1])\n",
    "\n",
    "LCS = [[0 for rows in range(lb)]for cols in range(la)]\n",
    "solution = [[0 for rows in range(lb)]for cols in range(la)]"
   ]
  },
  {
   "cell_type": "code",
   "execution_count": 2,
   "metadata": {},
   "outputs": [
    {
     "name": "stdout",
     "output_type": "stream",
     "text": [
      "[[0, 0, 0, 0, 0, 0, 0],\n",
      " [0, 1, 1, 1, 1, 1, 1],\n",
      " [0, 1, 1, 2, 2, 2, 2],\n",
      " [0, 1, 2, 2, 2, 2, 2],\n",
      " [0, 1, 2, 2, 3, 3, 3],\n",
      " [0, 1, 2, 2, 3, 3, 4]]\n",
      "\n",
      "\n",
      "[[0, 0, 0, 0, 0, 0, 0],\n",
      " [0, 'diagonal', 'left', 'left', 'left', 'left', 'diagonal'],\n",
      " [0, 'top', 'top', 'diagonal', 'left', 'left', 'left'],\n",
      " [0, 'top', 'diagonal', 'top', 'top', 'top', 'top'],\n",
      " [0, 'top', 'top', 'top', 'diagonal', 'left', 'left'],\n",
      " [0, 'diagonal', 'top', 'top', 'top', 'top', 'diagonal']]\n"
     ]
    }
   ],
   "source": [
    "for i in range(len(A)):\n",
    "    for j in range(len(B)):\n",
    "        if A[i]==B[j]:\n",
    "            LCS[i+1][j+1] = LCS[i][j]+1\n",
    "            \n",
    "            solution[i+1][j+1] = \"diagonal\"\n",
    "        else:\n",
    "            LCS[i+1][j+1] = max(LCS[i+1][j], LCS[i][j+1])\n",
    "            \n",
    "            if LCS[i+1][j+1] == LCS[i][j+1]:\n",
    "                solution[i+1][j+1] = \"top\"\n",
    "            elif LCS[i+1][j+1] == LCS[i+1][j]:\n",
    "                solution[i+1][j+1] = \"left\"\n",
    "\n",
    "import pprint as p\n",
    "p.pprint(LCS)\n",
    "print('\\n')\n",
    "p.pprint(solution)"
   ]
  },
  {
   "cell_type": "code",
   "execution_count": 16,
   "metadata": {},
   "outputs": [
    {
     "name": "stdout",
     "output_type": "stream",
     "text": [
      "['A', 'D', 'B', 'A'] ,\ta = 0 b = 0\n"
     ]
    }
   ],
   "source": [
    "sb = [] # result\n",
    "\n",
    "a = la -1\n",
    "b = lb -1\n",
    "\n",
    "while min(a,b) > 0:\n",
    "\n",
    "    if solution[a][b] == \"diagonal\":\n",
    "        sb.append(A[a-1])\n",
    "        a -= 1\n",
    "        b -= 1\n",
    "    elif solution[a][b] == \"top\":\n",
    "        a -= 1\n",
    "    elif solution[a][b] == \"left\":\n",
    "        b -= 1\n",
    "#     else:\n",
    "#         print(\"the end / error\")\n",
    "#         break\n",
    "        \n",
    "\n",
    "# C = \"hello\"\n",
    "# print(C[::-1])\n",
    "print(sb, ',\\ta =', a, 'b =', b)"
   ]
  },
  {
   "cell_type": "code",
   "execution_count": null,
   "metadata": {},
   "outputs": [],
   "source": []
  }
 ],
 "metadata": {
  "kernelspec": {
   "display_name": "Python 3",
   "language": "python",
   "name": "python3"
  },
  "language_info": {
   "codemirror_mode": {
    "name": "ipython",
    "version": 3
   },
   "file_extension": ".py",
   "mimetype": "text/x-python",
   "name": "python",
   "nbconvert_exporter": "python",
   "pygments_lexer": "ipython3",
   "version": "3.6.3"
  }
 },
 "nbformat": 4,
 "nbformat_minor": 2
}
