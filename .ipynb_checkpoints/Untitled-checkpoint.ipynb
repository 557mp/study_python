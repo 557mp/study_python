{
 "cells": [
  {
   "cell_type": "code",
   "execution_count": 1,
   "metadata": {},
   "outputs": [],
   "source": [
    "## 순차 탐색 (잘못된 예)##\n",
    "\n",
    "def search_(list_, index_, end, target):\n",
    "    ## 예외\n",
    "    if index_ > end:\n",
    "        return -1 #False\n",
    "    \n",
    "    ## 종료 조건\n",
    "    ## 실질적인 재귀 조건이 들어간다.\n",
    "    elif list_[index_] == target:\n",
    "        print('!! termination condition (', index_, ')')\n",
    "        return index_\n",
    "    \n",
    "    else:\n",
    "        print('before recursion (', index_,')')\n",
    "        search_(list_, index_+1, end, target)\n",
    "        print('after recursion (', index_,')\\n')"
   ]
  },
  {
   "cell_type": "code",
   "execution_count": 2,
   "metadata": {},
   "outputs": [
    {
     "name": "stdout",
     "output_type": "stream",
     "text": [
      "before recursion ( 0 )\n",
      "before recursion ( 1 )\n",
      "!! termination condition ( 2 )\n",
      "after recursion ( 1 )\n",
      "\n",
      "after recursion ( 0 )\n",
      "\n",
      "Answer :  None\n"
     ]
    }
   ],
   "source": [
    "print('Answer : ', search_([1,6,10,7,2,5], 0, 5, 10))     # Goal: 2"
   ]
  },
  {
   "cell_type": "code",
   "execution_count": null,
   "metadata": {},
   "outputs": [],
   "source": []
  }
 ],
 "metadata": {
  "kernelspec": {
   "display_name": "Python 3",
   "language": "python",
   "name": "python3"
  },
  "language_info": {
   "codemirror_mode": {
    "name": "ipython",
    "version": 3
   },
   "file_extension": ".py",
   "mimetype": "text/x-python",
   "name": "python",
   "nbconvert_exporter": "python",
   "pygments_lexer": "ipython3",
   "version": "3.7.1"
  }
 },
 "nbformat": 4,
 "nbformat_minor": 2
}
