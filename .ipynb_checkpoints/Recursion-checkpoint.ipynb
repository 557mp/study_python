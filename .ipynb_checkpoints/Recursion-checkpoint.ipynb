{
 "cells": [
  {
   "cell_type": "markdown",
   "metadata": {},
   "source": [
    "< 재귀함수 공부용 >\n",
    "\n",
    "출처:\n",
    "https://wayhome25.github.io/cs/2017/04/15/cs-16-1-recursion/"
   ]
  },
  {
   "cell_type": "code",
   "execution_count": 1,
   "metadata": {},
   "outputs": [],
   "source": [
    "## 순차 탐색 (잘못된 예)##\n",
    "\n",
    "def search_(list_, index_, end, target):\n",
    "    ## 예외\n",
    "    if index_ > end:\n",
    "        return -1 #False\n",
    "    \n",
    "    ## 종료 조건\n",
    "    ## 실질적인 재귀 조건이 들어간다.\n",
    "    elif list_[index_] == target:\n",
    "        print('!! termination condition (', index_, ')')\n",
    "        return index_\n",
    "    \n",
    "    else:\n",
    "        print('before recursion (', index_,')')\n",
    "        search_(list_, index_+1, end, target)\n",
    "        print('after recursion (', index_,')\\n')"
   ]
  },
  {
   "cell_type": "code",
   "execution_count": 2,
   "metadata": {},
   "outputs": [
    {
     "name": "stdout",
     "output_type": "stream",
     "text": [
      "before recursion ( 0 )\n",
      "before recursion ( 1 )\n",
      "!! termination condition ( 2 )\n",
      "after recursion ( 1 )\n",
      "\n",
      "after recursion ( 0 )\n",
      "\n",
      "Answer :  None\n"
     ]
    }
   ],
   "source": [
    "print('Answer : ', search_([1,6,10,7,2,5], 0, 5, 10))     # Goal: 2"
   ]
  },
  {
   "cell_type": "code",
   "execution_count": 3,
   "metadata": {},
   "outputs": [],
   "source": [
    "# 올바로 작동하지 않는다.\n",
    "# 함수(0) -> 함수(1) -> 함수(2) -> 결과(2)\n",
    "# 결과(2)가 전달되지 않는다.\n",
    "\n",
    "# 즉, 프로그램 입장에서는 return할 index = 0 이 되어버린다.\n",
    "# 잠깐!\n",
    "# 왜 결과는 0 아니라, None 인걸까?\n",
    "# return 까지 도달하지도 않았기 때문이다.\n",
    "\n",
    "\n"
   ]
  },
  {
   "cell_type": "code",
   "execution_count": 4,
   "metadata": {},
   "outputs": [],
   "source": [
    "## 순차 탐색 ##\n",
    "\n",
    "def search_(list_, index_, end, target):\n",
    "    ## 예외\n",
    "    if index_ > end:\n",
    "        return -1 #False\n",
    "    \n",
    "    ## 종료 조건\n",
    "    ## 실질적인 재귀 조건이 들어간다.\n",
    "    elif list_[index_] == target:\n",
    "        print('!! termination condition (', index_, ')')\n",
    "        return index_\n",
    "    \n",
    "    ## 재귀 조건 / 종료 조건 이전까지 재귀함수를 돌리는 패턴\n",
    "    else:\n",
    "        print('before recursion (', index_,')')\n",
    "        return search_(list_, index_+1, end, target)\n",
    "        print('after recursion (', index_,')\\n')"
   ]
  },
  {
   "cell_type": "code",
   "execution_count": 5,
   "metadata": {},
   "outputs": [
    {
     "name": "stdout",
     "output_type": "stream",
     "text": [
      "before recursion ( 0 )\n",
      "before recursion ( 1 )\n",
      "!! termination condition ( 2 )\n",
      "Answer :  2\n"
     ]
    }
   ],
   "source": [
    "print('Answer : ', search_([1,6,10,7,2,5], 0, 5, 10))     # Goal: 2"
   ]
  },
  {
   "cell_type": "code",
   "execution_count": 6,
   "metadata": {},
   "outputs": [],
   "source": [
    "# 여기에섭 볼 수 있듯이,\n",
    "# print('after recursion (', index_,')\\n')  \n",
    "# 해당 부분은 적용되서는 안된다.\n",
    "# \n",
    "# 첫 search_ 에서, 결과는 else: 조건문에 따른다는 것을 알 수 있다.\n",
    "# 즉, return [결과]     [결과]<--- 최종 결과 값이 된다.\n",
    "# 가장 깊숙한? search_ 에서, 종료조건에 따라 index_를 return 하므로... 이 값이 반복적으로 타고 올라가게 된다.\n",
    "\n",
    "\n"
   ]
  },
  {
   "cell_type": "code",
   "execution_count": 7,
   "metadata": {},
   "outputs": [],
   "source": [
    "## 2진수 변환, 인쇄 (잘못된 예) ##\n",
    "\n",
    "def print_binary(n):\n",
    "    ## 예외\n",
    "    \n",
    "    ## 종료 조건 + 행동\n",
    "    if n <= 1:\n",
    "        print(n)\n",
    "    \n",
    "    ## 재귀 조건\n",
    "    else:\n",
    "        print_binary(n//2)"
   ]
  },
  {
   "cell_type": "code",
   "execution_count": 8,
   "metadata": {},
   "outputs": [
    {
     "name": "stdout",
     "output_type": "stream",
     "text": [
      "1\n",
      "None\n"
     ]
    }
   ],
   "source": [
    "print(print_binary(13))\n",
    "        # 13 -> 6..1 -> 3..0 -> 1..1 -> 0..1\n",
    "        # 1101"
   ]
  },
  {
   "cell_type": "code",
   "execution_count": 9,
   "metadata": {},
   "outputs": [],
   "source": [
    "# 잘못된 이유 1. 재귀 조건에 return 없으면, 마지막 가장 깊숙한 종료조건만 실행한다.\n",
    "# 잘못된 이유 2. (뻥이다.) return 제대로 했더라도, 함수의 결과보다 행동이 중요하므로, return 은 아무런 영향이 없다.\n",
    "\n",
    "\n"
   ]
  },
  {
   "cell_type": "code",
   "execution_count": 10,
   "metadata": {},
   "outputs": [],
   "source": [
    "def print_binary(n):\n",
    "    ## 예외\n",
    "    \n",
    "    ## 종료 조건 + 행동\n",
    "    if n <= 1:\n",
    "        print(n, end='')\n",
    "\n",
    "    ## 재귀 조건\n",
    "    else:\n",
    "#         print(n%2, end='')\n",
    "# 첫 함수 -> ... -> 종료조건\n",
    "        print_binary(n//2)\n",
    "        print(n%2, end='')\n",
    "# 이 경우 인쇄 순서가 반대가 된다. 종료조건 -> 이전 후 행동 -> 이전 후행동 -> 이전 후 행동 -> ... -> 첫 함수"
   ]
  },
  {
   "cell_type": "code",
   "execution_count": 11,
   "metadata": {},
   "outputs": [
    {
     "name": "stdout",
     "output_type": "stream",
     "text": [
      "1101None\n"
     ]
    }
   ],
   "source": [
    "print(print_binary(13))\n",
    "        # 13 -> 6..1 -> 3..0 -> 1..1 -> 0..1\n",
    "        # 1101\n",
    "        # 8*1 4*0 2*1 1*1"
   ]
  },
  {
   "cell_type": "code",
   "execution_count": 12,
   "metadata": {},
   "outputs": [],
   "source": [
    "# return 없으므로, return 값이 없다. None\n",
    "# return 있게 된다면, 재귀 조건 이후의 행동은 실행하지 않는다.\n",
    "\n",
    "\n"
   ]
  },
  {
   "cell_type": "code",
   "execution_count": 9,
   "metadata": {},
   "outputs": [],
   "source": [
    "## 배열의 합 n까지 ##\n",
    "\n",
    "def sum_(list_, n):\n",
    "\n",
    "    ## 예외\n",
    "    if n<0 or n>=len(list_):\n",
    "        return False\n",
    "    \n",
    "    ## 종료 조건 (가장 깊숙한)\n",
    "    elif n == 0:\n",
    "        return list_[0]\n",
    "    \n",
    "    ## 재귀 조건 \n",
    "    else:\n",
    "        return list_[n]+sum_(list_, n-1)"
   ]
  },
  {
   "cell_type": "code",
   "execution_count": 10,
   "metadata": {},
   "outputs": [
    {
     "data": {
      "text/plain": [
       "17"
      ]
     },
     "execution_count": 10,
     "metadata": {},
     "output_type": "execute_result"
    }
   ],
   "source": [
    "sum_([1,6,10,7,2,5], 2)"
   ]
  },
  {
   "cell_type": "code",
   "execution_count": 19,
   "metadata": {},
   "outputs": [],
   "source": [
    "## 0~n 까지의 합계 구하기 ##\n",
    "\n",
    "def sum_(n):\n",
    "    ## 예외\n",
    "    if n<0:\n",
    "        return False\n",
    "    \n",
    "    ## 종료 조건 (가장 깊숙한)\n",
    "    elif n==0:\n",
    "        return 0\n",
    "    \n",
    "    ## 재귀 조건\n",
    "    else:\n",
    "        return n+sum_(n-1)"
   ]
  },
  {
   "cell_type": "code",
   "execution_count": 20,
   "metadata": {},
   "outputs": [
    {
     "data": {
      "text/plain": [
       "6"
      ]
     },
     "execution_count": 20,
     "metadata": {},
     "output_type": "execute_result"
    }
   ],
   "source": [
    "sum_(3)"
   ]
  },
  {
   "cell_type": "code",
   "execution_count": 21,
   "metadata": {},
   "outputs": [],
   "source": [
    "## 1~n 곱하기 (factorial) ##\n",
    "\n",
    "def facto_(n):\n",
    "    ## 예외\n",
    "    if n<0:\n",
    "        return False\n",
    "    \n",
    "    ## 종료 조건 (가장 깊숙한)\n",
    "    elif n==1:\n",
    "        return 1\n",
    "    \n",
    "    ## 재귀 조건\n",
    "    else:\n",
    "        return n*facto_(n-1)"
   ]
  },
  {
   "cell_type": "code",
   "execution_count": 23,
   "metadata": {},
   "outputs": [
    {
     "data": {
      "text/plain": [
       "24"
      ]
     },
     "execution_count": 23,
     "metadata": {},
     "output_type": "execute_result"
    }
   ],
   "source": [
    "facto_(4)"
   ]
  },
  {
   "cell_type": "code",
   "execution_count": 24,
   "metadata": {},
   "outputs": [],
   "source": [
    "## x^n ##\n",
    "\n",
    "def power_(x, n):\n",
    "    ## \n",
    "    if n==0:\n",
    "        return 1\n",
    "    \n",
    "    ## \n",
    "    elif n>0:\n",
    "        return x*power_(x, n-1)\n",
    "        \n",
    "    elif n<0:\n",
    "        return x*power_(x, n+1)"
   ]
  },
  {
   "cell_type": "code",
   "execution_count": 26,
   "metadata": {},
   "outputs": [
    {
     "name": "stdout",
     "output_type": "stream",
     "text": [
      "8\n",
      "-8\n"
     ]
    }
   ],
   "source": [
    "print( power_(2,3) )\n",
    "print( power_(-2,3) )"
   ]
  },
  {
   "cell_type": "code",
   "execution_count": 27,
   "metadata": {},
   "outputs": [],
   "source": [
    "## 피보나치 수열 ##\n",
    "## order... 1 2 3 4 5 6 7\n",
    "## answer.. 1 1 2 3 5 8 13\n",
    "\n",
    "def fibonacci(n):\n",
    "    ## 예외\n",
    "    if n<0:\n",
    "        return False\n",
    "    \n",
    "    ## 종료 조건 (가장 깊은)\n",
    "    elif n == 1:\n",
    "        return 1\n",
    "    \n",
    "    elif n == 2:\n",
    "        return 1\n",
    "    \n",
    "    ## 재귀 조건\n",
    "    else:\n",
    "        return fibonacci(n-2)+fibonacci(n-1)"
   ]
  },
  {
   "cell_type": "code",
   "execution_count": 30,
   "metadata": {},
   "outputs": [
    {
     "data": {
      "text/plain": [
       "13"
      ]
     },
     "execution_count": 30,
     "metadata": {},
     "output_type": "execute_result"
    }
   ],
   "source": [
    "fibonacci(7)"
   ]
  },
  {
   "cell_type": "code",
   "execution_count": 7,
   "metadata": {},
   "outputs": [],
   "source": [
    "## 최대공약수 - 유클리드 호제법\n",
    "## 2개의 자연수(또는 정식) a, b에 대해서 a를 b로 나눈 나머지를 r이라 하면(단, a>b), a와 b의 최대공약수는 b와 r의 최대공약수와 같다.\n",
    "\n",
    "def gcd(m, n):\n",
    "    (n, m) = (m, n) if m<n else (n, m)\n",
    "    # m > n\n",
    "\n",
    "    ## 종료 조건 (가장 깊은)\n",
    "    if m%n==0:\n",
    "        return n\n",
    "    \n",
    "    ## 재귀 조건\n",
    "    else:\n",
    "        return gcd(n, m%n)"
   ]
  },
  {
   "cell_type": "code",
   "execution_count": 8,
   "metadata": {},
   "outputs": [
    {
     "data": {
      "text/plain": [
       "12"
      ]
     },
     "execution_count": 8,
     "metadata": {},
     "output_type": "execute_result"
    }
   ],
   "source": [
    "gcd(48,60)"
   ]
  },
  {
   "cell_type": "code",
   "execution_count": null,
   "metadata": {},
   "outputs": [],
   "source": []
  }
 ],
 "metadata": {
  "kernelspec": {
   "display_name": "Python 3",
   "language": "python",
   "name": "python3"
  },
  "language_info": {
   "codemirror_mode": {
    "name": "ipython",
    "version": 3
   },
   "file_extension": ".py",
   "mimetype": "text/x-python",
   "name": "python",
   "nbconvert_exporter": "python",
   "pygments_lexer": "ipython3",
   "version": "3.7.1"
  }
 },
 "nbformat": 4,
 "nbformat_minor": 2
}
