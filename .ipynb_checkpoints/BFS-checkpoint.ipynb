{
 "cells": [
  {
   "cell_type": "markdown",
   "metadata": {},
   "source": [
    "Reference:\n",
    "github.com/minsuk-heo/problemsolving/blob/master/graph/bfs.py\n",
    "https://github.com/minsuk-heo/problemsolving/blob/master/graph/bfs.py\n",
    "__author__ = 'Minsuk Heo'"
   ]
  },
  {
   "cell_type": "code",
   "execution_count": 19,
   "metadata": {},
   "outputs": [
    {
     "name": "stdout",
     "output_type": "stream",
     "text": [
      "[[1, 2], [0, 3], [0, 4, 5], [1], [2, 6], [2], [4]]\n"
     ]
    }
   ],
   "source": [
    "vertexList = ['A', 'B', 'C', 'D', 'E', 'F', 'G']    # 별 의미는 없다.\n",
    "edgeList = [(0,1), (0,2), (1,0), (1,3), (2,0), (2,4), (2,5), (3,1), (4,2), (4,6), (5,2), (6,4)]   # \n",
    "visitedList = []\n",
    "adjacencyList = [[] for vertex in vertexList]\n",
    "\n",
    "# fill adjacencyList from graph\n",
    "for edge in edgeList:\n",
    "    adjacencyList[edge[0]].append(edge[1])\n",
    "    \n",
    "print(adjacencyList)"
   ]
  },
  {
   "cell_type": "code",
   "execution_count": 20,
   "metadata": {},
   "outputs": [],
   "source": [
    "def bfs(adj, visited, queue):\n",
    "    while(queue):\n",
    "        tmp = queue.pop(0)\n",
    "        \n",
    "        for neighbor in adj[tmp]:\n",
    "            if neighbor not in visited:\n",
    "                queue.append(neighbor)\n",
    "\n",
    "        visited.append(tmp)\n",
    "        \n",
    "    return visited        "
   ]
  },
  {
   "cell_type": "code",
   "execution_count": 21,
   "metadata": {},
   "outputs": [
    {
     "data": {
      "text/plain": [
       "[0, 1, 2, 3, 4, 5, 6]"
      ]
     },
     "execution_count": 21,
     "metadata": {},
     "output_type": "execute_result"
    }
   ],
   "source": [
    "bfs(adjacencyList, [], [0])"
   ]
  }
 ],
 "metadata": {
  "kernelspec": {
   "display_name": "Python 3",
   "language": "python",
   "name": "python3"
  },
  "language_info": {
   "codemirror_mode": {
    "name": "ipython",
    "version": 3
   },
   "file_extension": ".py",
   "mimetype": "text/x-python",
   "name": "python",
   "nbconvert_exporter": "python",
   "pygments_lexer": "ipython3",
   "version": "3.7.1"
  }
 },
 "nbformat": 4,
 "nbformat_minor": 2
}
