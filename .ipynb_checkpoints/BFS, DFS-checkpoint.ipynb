{
 "cells": [
  {
   "cell_type": "markdown",
   "metadata": {},
   "source": [
    "Reference: <br>\n",
    "github.com/minsuk-heo/problemsolving/blob/master/graph/bfs.py <br>\n",
    "https://github.com/minsuk-heo/problemsolving/blob/master/graph/bfs.py <br>\n",
    "https://www.youtube.com/watch?v=BLc3wzvycH8 <br>\n",
    "https://github.com/minsuk-heo/problemsolving/blob/master/graph/bfs.py"
   ]
  },
  {
   "cell_type": "code",
   "execution_count": 25,
   "metadata": {},
   "outputs": [
    {
     "name": "stdout",
     "output_type": "stream",
     "text": [
      "[[1, 2], [0, 3], [0, 4, 5], [1], [2, 6], [2], [4]]\n"
     ]
    }
   ],
   "source": [
    "vertexList = ['A', 'B', 'C', 'D', 'E', 'F', 'G']    # 별 의미는 없다.\n",
    "edgeList = [(0,1), (0,2), (1,0), (1,3), (2,0), (2,4), (2,5), (3,1), (4,2), (4,6), (5,2), (6,4)]   # \n",
    "visitedList = []\n",
    "adjacencyList = [[] for vertex in vertexList]\n",
    "\n",
    "# fill adjacencyList from graph\n",
    "for edge in edgeList:\n",
    "    adjacencyList[edge[0]].append(edge[1])\n",
    "    \n",
    "print(adjacencyList)"
   ]
  },
  {
   "cell_type": "markdown",
   "metadata": {},
   "source": [
    "너비 우선 탐색(BFS)의 시간 복잡도: <br>\n",
    "\n",
    "인접 리스트로 표현된 그래프: O(N+E) <br>\n",
    "인접 행렬로 표현된 그래프: O(N^2) <br>\n",
    "미로 찾기와 같은 경우에 유용하다."
   ]
  },
  {
   "cell_type": "code",
   "execution_count": 26,
   "metadata": {},
   "outputs": [],
   "source": [
    "### QUEUE\n",
    "\n",
    "def bfs(adj, visited, queue):\n",
    "    while(queue):\n",
    "        tmp = queue.pop(0)\n",
    "        \n",
    "        for neighbor in adj[tmp]:\n",
    "            if neighbor not in visited:\n",
    "                queue.append(neighbor)\n",
    "\n",
    "        visited.append(tmp)\n",
    "        \n",
    "    return visited        "
   ]
  },
  {
   "cell_type": "code",
   "execution_count": 27,
   "metadata": {},
   "outputs": [
    {
     "data": {
      "text/plain": [
       "[0, 1, 2, 3, 4, 5, 6]"
      ]
     },
     "execution_count": 27,
     "metadata": {},
     "output_type": "execute_result"
    }
   ],
   "source": [
    "bfs(adjacencyList, [], [0])"
   ]
  },
  {
   "cell_type": "code",
   "execution_count": 28,
   "metadata": {},
   "outputs": [],
   "source": [
    "### STACK\n",
    "\n",
    "def dfs(adj, visited, queue):\n",
    "    while(queue):\n",
    "        tmp = queue.pop(-1)\n",
    "        \n",
    "        for neighbor in adj[tmp]:\n",
    "            if neighbor not in visited:\n",
    "                queue.append(neighbor)\n",
    "\n",
    "        visited.append(tmp)\n",
    "        \n",
    "    return visited        "
   ]
  },
  {
   "cell_type": "code",
   "execution_count": 29,
   "metadata": {},
   "outputs": [
    {
     "data": {
      "text/plain": [
       "[0, 2, 5, 4, 6, 1, 3]"
      ]
     },
     "execution_count": 29,
     "metadata": {},
     "output_type": "execute_result"
    }
   ],
   "source": [
    "dfs(adjacencyList, [], [0])"
   ]
  }
 ],
 "metadata": {
  "kernelspec": {
   "display_name": "Python 3",
   "language": "python",
   "name": "python3"
  },
  "language_info": {
   "codemirror_mode": {
    "name": "ipython",
    "version": 3
   },
   "file_extension": ".py",
   "mimetype": "text/x-python",
   "name": "python",
   "nbconvert_exporter": "python",
   "pygments_lexer": "ipython3",
   "version": "3.7.1"
  }
 },
 "nbformat": 4,
 "nbformat_minor": 2
}
