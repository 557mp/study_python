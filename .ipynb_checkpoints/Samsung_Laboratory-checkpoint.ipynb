{
 "cells": [
  {
   "cell_type": "code",
   "execution_count": 87,
   "metadata": {},
   "outputs": [
    {
     "name": "stdout",
     "output_type": "stream",
     "text": [
      "[[2, 0, 0, 0, 1, 1, 0], [0, 0, 1, 0, 1, 2, 0], [0, 1, 1, 0, 1, 0, 0], [0, 1, 0, 0, 0, 0, 0], [0, 0, 0, 0, 0, 1, 1], [0, 1, 0, 0, 0, 0, 0], [0, 1, 0, 0, 0, 0, 0]]\n",
      "\n",
      " [0, 12]\n",
      "0 0 1 5\n"
     ]
    }
   ],
   "source": [
    "row = 7\n",
    "col = 7\n",
    "graph = [\n",
    "[2, 0, 0, 0, 1, 1, 0],\n",
    "[0, 0, 1, 0, 1, 2, 0],\n",
    "[0, 1, 1, 0, 1, 0, 0],\n",
    "[0, 1, 0, 0, 0, 0, 0],\n",
    "[0, 0, 0, 0, 0, 1, 1],\n",
    "[0, 1, 0, 0, 0, 0, 0],\n",
    "[0, 1, 0, 0, 0, 0, 0]\n",
    "]\n",
    "print(graph)\n",
    "\n",
    "Virus_list = []\n",
    "\n",
    "for i in range(row):\n",
    "    for j in range(col):\n",
    "        if graph[i][j] == 2:\n",
    "            Virus_list.append(i*row+j)\n",
    "print('\\n', Virus_list)\n",
    "print(0//row, 0%row, 12//row, 12%row)"
   ]
  },
  {
   "cell_type": "code",
   "execution_count": 88,
   "metadata": {},
   "outputs": [
    {
     "ename": "SyntaxError",
     "evalue": "invalid syntax (<ipython-input-88-370d9b2c5b0d>, line 11)",
     "output_type": "error",
     "traceback": [
      "\u001b[0;36m  File \u001b[0;32m\"<ipython-input-88-370d9b2c5b0d>\"\u001b[0;36m, line \u001b[0;32m11\u001b[0m\n\u001b[0;31m    return count += Virus_count(graph, i+dx, j+dy, count)\u001b[0m\n\u001b[0m                  ^\u001b[0m\n\u001b[0;31mSyntaxError\u001b[0m\u001b[0;31m:\u001b[0m invalid syntax\n"
     ]
    }
   ],
   "source": [
    "from copy import deepcopy\n",
    "\n",
    "def Virus_count(graph, i, j, count=0):\n",
    "    global row\n",
    "    global col\n",
    "\n",
    "    if i<0 or j<0 or i>=row or j>=col or graph[i][j]<=1:\n",
    "        return 1\n",
    "    \n",
    "    for dx, dy in (1,0), (-1,0), (0,1), (1,0):\n",
    "        count += Virus_count(graph, i+dx, j+dy, count)\n",
    "        \n",
    "    "
   ]
  },
  {
   "cell_type": "code",
   "execution_count": 89,
   "metadata": {},
   "outputs": [],
   "source": [
    "def setWall(graph, start, count=0):\n",
    "    global row\n",
    "    global col\n",
    "    \n",
    "    arr = deepcopy(graph)\n",
    "    \n",
    "    if count == 3:\n",
    "        print('!') # 바이러스 \n",
    "#         Virus_count\n",
    "\n",
    "    for n in range(start, row*col,1):\n",
    "        i = n//row\n",
    "        j = n%row    \n",
    "        if arr[i][j] == 0:\n",
    "            arr[i][j] = 1\n",
    "            setWall(graph, n+1, count+1)\n",
    "            arr[i][j] = 0"
   ]
  },
  {
   "cell_type": "code",
   "execution_count": 90,
   "metadata": {},
   "outputs": [
    {
     "name": "stdout",
     "output_type": "stream",
     "text": [
      "tmp = \t 12\n",
      "4\n",
      "tmp = \t 0\n",
      "4\n"
     ]
    }
   ],
   "source": [
    "while(Virus_list):\n",
    "    tmp = Virus_list.pop()\n",
    "    print('tmp =','\\t', tmp)\n",
    "    print(Virus_count(graph, tmp//row, tmp%row))"
   ]
  }
 ],
 "metadata": {
  "kernelspec": {
   "display_name": "Python 3",
   "language": "python",
   "name": "python3"
  },
  "language_info": {
   "codemirror_mode": {
    "name": "ipython",
    "version": 3
   },
   "file_extension": ".py",
   "mimetype": "text/x-python",
   "name": "python",
   "nbconvert_exporter": "python",
   "pygments_lexer": "ipython3",
   "version": "3.7.1"
  }
 },
 "nbformat": 4,
 "nbformat_minor": 2
}
